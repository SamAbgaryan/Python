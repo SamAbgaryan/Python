{
 "cells": [
  {
   "cell_type": "markdown",
   "id": "33a0920d",
   "metadata": {},
   "source": [
    "# Importing libraries and data"
   ]
  },
  {
   "cell_type": "code",
   "execution_count": 1,
   "id": "ade67e71",
   "metadata": {},
   "outputs": [],
   "source": [
    "import pandas as pd\n",
    "import numpy as np\n",
    "import os\n",
    "import scipy\n",
    "import matplotlib.pyplot as plt\n",
    "import seaborn as sns"
   ]
  },
  {
   "cell_type": "code",
   "execution_count": 2,
   "id": "35802b73",
   "metadata": {},
   "outputs": [],
   "source": [
    "path=r\"C:\\Users\\Sam\\Desktop\\CF\\Project 4 Instacart Basket\\Instacart Basket Analysis\\02 Data\\Prepared Data\"\n",
    "df=pd.read_pickle(os.path.join(path,\"customer_instacart_merged.pkl\"))"
   ]
  },
  {
   "cell_type": "code",
   "execution_count": 3,
   "id": "b6e3b19e",
   "metadata": {},
   "outputs": [
    {
     "data": {
      "text/plain": [
       "(32404859, 34)"
      ]
     },
     "execution_count": 3,
     "metadata": {},
     "output_type": "execute_result"
    }
   ],
   "source": [
    "# checking for execution\n",
    "df.shape"
   ]
  },
  {
   "cell_type": "code",
   "execution_count": 4,
   "id": "42745ea3",
   "metadata": {},
   "outputs": [
    {
     "data": {
      "text/html": [
       "<div>\n",
       "<style scoped>\n",
       "    .dataframe tbody tr th:only-of-type {\n",
       "        vertical-align: middle;\n",
       "    }\n",
       "\n",
       "    .dataframe tbody tr th {\n",
       "        vertical-align: top;\n",
       "    }\n",
       "\n",
       "    .dataframe thead th {\n",
       "        text-align: right;\n",
       "    }\n",
       "</style>\n",
       "<table border=\"1\" class=\"dataframe\">\n",
       "  <thead>\n",
       "    <tr style=\"text-align: right;\">\n",
       "      <th></th>\n",
       "      <th>user_id</th>\n",
       "      <th>first_name</th>\n",
       "      <th>last_name</th>\n",
       "      <th>gender</th>\n",
       "      <th>state</th>\n",
       "      <th>age</th>\n",
       "      <th>date_joined</th>\n",
       "      <th>number_of_dependants</th>\n",
       "      <th>marital_status</th>\n",
       "      <th>income</th>\n",
       "      <th>...</th>\n",
       "      <th>busiest_day</th>\n",
       "      <th>busiest_days</th>\n",
       "      <th>busiest_period_of_day</th>\n",
       "      <th>max_order</th>\n",
       "      <th>loyalty_flag</th>\n",
       "      <th>average_price</th>\n",
       "      <th>spending_flag</th>\n",
       "      <th>median_days_between_orders</th>\n",
       "      <th>order_frequency</th>\n",
       "      <th>_merge</th>\n",
       "    </tr>\n",
       "  </thead>\n",
       "  <tbody>\n",
       "    <tr>\n",
       "      <th>0</th>\n",
       "      <td>26711</td>\n",
       "      <td>Deborah</td>\n",
       "      <td>Esquivel</td>\n",
       "      <td>Female</td>\n",
       "      <td>Missouri</td>\n",
       "      <td>48</td>\n",
       "      <td>1/1/2017</td>\n",
       "      <td>3</td>\n",
       "      <td>married</td>\n",
       "      <td>165665</td>\n",
       "      <td>...</td>\n",
       "      <td>Regular Busy</td>\n",
       "      <td>Busiest days</td>\n",
       "      <td>Most orders</td>\n",
       "      <td>8</td>\n",
       "      <td>New customer</td>\n",
       "      <td>7.988889</td>\n",
       "      <td>Low spender</td>\n",
       "      <td>19.0</td>\n",
       "      <td>Regular customer</td>\n",
       "      <td>both</td>\n",
       "    </tr>\n",
       "    <tr>\n",
       "      <th>1</th>\n",
       "      <td>26711</td>\n",
       "      <td>Deborah</td>\n",
       "      <td>Esquivel</td>\n",
       "      <td>Female</td>\n",
       "      <td>Missouri</td>\n",
       "      <td>48</td>\n",
       "      <td>1/1/2017</td>\n",
       "      <td>3</td>\n",
       "      <td>married</td>\n",
       "      <td>165665</td>\n",
       "      <td>...</td>\n",
       "      <td>Regular Busy</td>\n",
       "      <td>Regular days</td>\n",
       "      <td>Most orders</td>\n",
       "      <td>8</td>\n",
       "      <td>New customer</td>\n",
       "      <td>7.988889</td>\n",
       "      <td>Low spender</td>\n",
       "      <td>19.0</td>\n",
       "      <td>Regular customer</td>\n",
       "      <td>both</td>\n",
       "    </tr>\n",
       "    <tr>\n",
       "      <th>2</th>\n",
       "      <td>26711</td>\n",
       "      <td>Deborah</td>\n",
       "      <td>Esquivel</td>\n",
       "      <td>Female</td>\n",
       "      <td>Missouri</td>\n",
       "      <td>48</td>\n",
       "      <td>1/1/2017</td>\n",
       "      <td>3</td>\n",
       "      <td>married</td>\n",
       "      <td>165665</td>\n",
       "      <td>...</td>\n",
       "      <td>Regular Busy</td>\n",
       "      <td>Busiest days</td>\n",
       "      <td>Most orders</td>\n",
       "      <td>8</td>\n",
       "      <td>New customer</td>\n",
       "      <td>7.988889</td>\n",
       "      <td>Low spender</td>\n",
       "      <td>19.0</td>\n",
       "      <td>Regular customer</td>\n",
       "      <td>both</td>\n",
       "    </tr>\n",
       "    <tr>\n",
       "      <th>3</th>\n",
       "      <td>26711</td>\n",
       "      <td>Deborah</td>\n",
       "      <td>Esquivel</td>\n",
       "      <td>Female</td>\n",
       "      <td>Missouri</td>\n",
       "      <td>48</td>\n",
       "      <td>1/1/2017</td>\n",
       "      <td>3</td>\n",
       "      <td>married</td>\n",
       "      <td>165665</td>\n",
       "      <td>...</td>\n",
       "      <td>Regular Busy</td>\n",
       "      <td>Regular days</td>\n",
       "      <td>Most orders</td>\n",
       "      <td>8</td>\n",
       "      <td>New customer</td>\n",
       "      <td>7.988889</td>\n",
       "      <td>Low spender</td>\n",
       "      <td>19.0</td>\n",
       "      <td>Regular customer</td>\n",
       "      <td>both</td>\n",
       "    </tr>\n",
       "    <tr>\n",
       "      <th>4</th>\n",
       "      <td>26711</td>\n",
       "      <td>Deborah</td>\n",
       "      <td>Esquivel</td>\n",
       "      <td>Female</td>\n",
       "      <td>Missouri</td>\n",
       "      <td>48</td>\n",
       "      <td>1/1/2017</td>\n",
       "      <td>3</td>\n",
       "      <td>married</td>\n",
       "      <td>165665</td>\n",
       "      <td>...</td>\n",
       "      <td>Regular Busy</td>\n",
       "      <td>Slowest days</td>\n",
       "      <td>Most orders</td>\n",
       "      <td>8</td>\n",
       "      <td>New customer</td>\n",
       "      <td>7.988889</td>\n",
       "      <td>Low spender</td>\n",
       "      <td>19.0</td>\n",
       "      <td>Regular customer</td>\n",
       "      <td>both</td>\n",
       "    </tr>\n",
       "  </tbody>\n",
       "</table>\n",
       "<p>5 rows × 34 columns</p>\n",
       "</div>"
      ],
      "text/plain": [
       "   user_id first_name last_name  gender     state  age date_joined  \\\n",
       "0    26711    Deborah  Esquivel  Female  Missouri   48    1/1/2017   \n",
       "1    26711    Deborah  Esquivel  Female  Missouri   48    1/1/2017   \n",
       "2    26711    Deborah  Esquivel  Female  Missouri   48    1/1/2017   \n",
       "3    26711    Deborah  Esquivel  Female  Missouri   48    1/1/2017   \n",
       "4    26711    Deborah  Esquivel  Female  Missouri   48    1/1/2017   \n",
       "\n",
       "   number_of_dependants marital_status  income  ...   busiest_day  \\\n",
       "0                     3        married  165665  ...  Regular Busy   \n",
       "1                     3        married  165665  ...  Regular Busy   \n",
       "2                     3        married  165665  ...  Regular Busy   \n",
       "3                     3        married  165665  ...  Regular Busy   \n",
       "4                     3        married  165665  ...  Regular Busy   \n",
       "\n",
       "   busiest_days  busiest_period_of_day  max_order  loyalty_flag  \\\n",
       "0  Busiest days            Most orders          8  New customer   \n",
       "1  Regular days            Most orders          8  New customer   \n",
       "2  Busiest days            Most orders          8  New customer   \n",
       "3  Regular days            Most orders          8  New customer   \n",
       "4  Slowest days            Most orders          8  New customer   \n",
       "\n",
       "   average_price spending_flag  median_days_between_orders   order_frequency  \\\n",
       "0       7.988889   Low spender                        19.0  Regular customer   \n",
       "1       7.988889   Low spender                        19.0  Regular customer   \n",
       "2       7.988889   Low spender                        19.0  Regular customer   \n",
       "3       7.988889   Low spender                        19.0  Regular customer   \n",
       "4       7.988889   Low spender                        19.0  Regular customer   \n",
       "\n",
       "   _merge  \n",
       "0    both  \n",
       "1    both  \n",
       "2    both  \n",
       "3    both  \n",
       "4    both  \n",
       "\n",
       "[5 rows x 34 columns]"
      ]
     },
     "execution_count": 4,
     "metadata": {},
     "output_type": "execute_result"
    }
   ],
   "source": [
    "df.head()"
   ]
  },
  {
   "cell_type": "code",
   "execution_count": 5,
   "id": "47add557",
   "metadata": {},
   "outputs": [
    {
     "data": {
      "text/plain": [
       "_merge\n",
       "both          32404859\n",
       "left_only            0\n",
       "right_only           0\n",
       "Name: count, dtype: int64"
      ]
     },
     "execution_count": 5,
     "metadata": {},
     "output_type": "execute_result"
    }
   ],
   "source": [
    "df[\"_merge\"].value_counts()"
   ]
  },
  {
   "cell_type": "code",
   "execution_count": 6,
   "id": "8197c08e",
   "metadata": {},
   "outputs": [],
   "source": [
    "#dropping _merge coulmn\n",
    "dff=df.drop(columns=[\"_merge\"])"
   ]
  },
  {
   "cell_type": "code",
   "execution_count": 7,
   "id": "8645bace",
   "metadata": {},
   "outputs": [
    {
     "data": {
      "text/html": [
       "<div>\n",
       "<style scoped>\n",
       "    .dataframe tbody tr th:only-of-type {\n",
       "        vertical-align: middle;\n",
       "    }\n",
       "\n",
       "    .dataframe tbody tr th {\n",
       "        vertical-align: top;\n",
       "    }\n",
       "\n",
       "    .dataframe thead th {\n",
       "        text-align: right;\n",
       "    }\n",
       "</style>\n",
       "<table border=\"1\" class=\"dataframe\">\n",
       "  <thead>\n",
       "    <tr style=\"text-align: right;\">\n",
       "      <th></th>\n",
       "      <th>user_id</th>\n",
       "      <th>first_name</th>\n",
       "      <th>last_name</th>\n",
       "      <th>gender</th>\n",
       "      <th>state</th>\n",
       "      <th>age</th>\n",
       "      <th>date_joined</th>\n",
       "      <th>number_of_dependants</th>\n",
       "      <th>marital_status</th>\n",
       "      <th>income</th>\n",
       "      <th>...</th>\n",
       "      <th>price_range_loc</th>\n",
       "      <th>busiest_day</th>\n",
       "      <th>busiest_days</th>\n",
       "      <th>busiest_period_of_day</th>\n",
       "      <th>max_order</th>\n",
       "      <th>loyalty_flag</th>\n",
       "      <th>average_price</th>\n",
       "      <th>spending_flag</th>\n",
       "      <th>median_days_between_orders</th>\n",
       "      <th>order_frequency</th>\n",
       "    </tr>\n",
       "  </thead>\n",
       "  <tbody>\n",
       "    <tr>\n",
       "      <th>0</th>\n",
       "      <td>26711</td>\n",
       "      <td>Deborah</td>\n",
       "      <td>Esquivel</td>\n",
       "      <td>Female</td>\n",
       "      <td>Missouri</td>\n",
       "      <td>48</td>\n",
       "      <td>1/1/2017</td>\n",
       "      <td>3</td>\n",
       "      <td>married</td>\n",
       "      <td>165665</td>\n",
       "      <td>...</td>\n",
       "      <td>Mid-range</td>\n",
       "      <td>Regular Busy</td>\n",
       "      <td>Busiest days</td>\n",
       "      <td>Most orders</td>\n",
       "      <td>8</td>\n",
       "      <td>New customer</td>\n",
       "      <td>7.988889</td>\n",
       "      <td>Low spender</td>\n",
       "      <td>19.0</td>\n",
       "      <td>Regular customer</td>\n",
       "    </tr>\n",
       "    <tr>\n",
       "      <th>1</th>\n",
       "      <td>26711</td>\n",
       "      <td>Deborah</td>\n",
       "      <td>Esquivel</td>\n",
       "      <td>Female</td>\n",
       "      <td>Missouri</td>\n",
       "      <td>48</td>\n",
       "      <td>1/1/2017</td>\n",
       "      <td>3</td>\n",
       "      <td>married</td>\n",
       "      <td>165665</td>\n",
       "      <td>...</td>\n",
       "      <td>Mid-range</td>\n",
       "      <td>Regular Busy</td>\n",
       "      <td>Regular days</td>\n",
       "      <td>Most orders</td>\n",
       "      <td>8</td>\n",
       "      <td>New customer</td>\n",
       "      <td>7.988889</td>\n",
       "      <td>Low spender</td>\n",
       "      <td>19.0</td>\n",
       "      <td>Regular customer</td>\n",
       "    </tr>\n",
       "    <tr>\n",
       "      <th>2</th>\n",
       "      <td>26711</td>\n",
       "      <td>Deborah</td>\n",
       "      <td>Esquivel</td>\n",
       "      <td>Female</td>\n",
       "      <td>Missouri</td>\n",
       "      <td>48</td>\n",
       "      <td>1/1/2017</td>\n",
       "      <td>3</td>\n",
       "      <td>married</td>\n",
       "      <td>165665</td>\n",
       "      <td>...</td>\n",
       "      <td>Mid-range</td>\n",
       "      <td>Regular Busy</td>\n",
       "      <td>Busiest days</td>\n",
       "      <td>Most orders</td>\n",
       "      <td>8</td>\n",
       "      <td>New customer</td>\n",
       "      <td>7.988889</td>\n",
       "      <td>Low spender</td>\n",
       "      <td>19.0</td>\n",
       "      <td>Regular customer</td>\n",
       "    </tr>\n",
       "    <tr>\n",
       "      <th>3</th>\n",
       "      <td>26711</td>\n",
       "      <td>Deborah</td>\n",
       "      <td>Esquivel</td>\n",
       "      <td>Female</td>\n",
       "      <td>Missouri</td>\n",
       "      <td>48</td>\n",
       "      <td>1/1/2017</td>\n",
       "      <td>3</td>\n",
       "      <td>married</td>\n",
       "      <td>165665</td>\n",
       "      <td>...</td>\n",
       "      <td>Low-range</td>\n",
       "      <td>Regular Busy</td>\n",
       "      <td>Regular days</td>\n",
       "      <td>Most orders</td>\n",
       "      <td>8</td>\n",
       "      <td>New customer</td>\n",
       "      <td>7.988889</td>\n",
       "      <td>Low spender</td>\n",
       "      <td>19.0</td>\n",
       "      <td>Regular customer</td>\n",
       "    </tr>\n",
       "    <tr>\n",
       "      <th>4</th>\n",
       "      <td>26711</td>\n",
       "      <td>Deborah</td>\n",
       "      <td>Esquivel</td>\n",
       "      <td>Female</td>\n",
       "      <td>Missouri</td>\n",
       "      <td>48</td>\n",
       "      <td>1/1/2017</td>\n",
       "      <td>3</td>\n",
       "      <td>married</td>\n",
       "      <td>165665</td>\n",
       "      <td>...</td>\n",
       "      <td>Low-range</td>\n",
       "      <td>Regular Busy</td>\n",
       "      <td>Slowest days</td>\n",
       "      <td>Most orders</td>\n",
       "      <td>8</td>\n",
       "      <td>New customer</td>\n",
       "      <td>7.988889</td>\n",
       "      <td>Low spender</td>\n",
       "      <td>19.0</td>\n",
       "      <td>Regular customer</td>\n",
       "    </tr>\n",
       "  </tbody>\n",
       "</table>\n",
       "<p>5 rows × 33 columns</p>\n",
       "</div>"
      ],
      "text/plain": [
       "   user_id first_name last_name  gender     state  age date_joined  \\\n",
       "0    26711    Deborah  Esquivel  Female  Missouri   48    1/1/2017   \n",
       "1    26711    Deborah  Esquivel  Female  Missouri   48    1/1/2017   \n",
       "2    26711    Deborah  Esquivel  Female  Missouri   48    1/1/2017   \n",
       "3    26711    Deborah  Esquivel  Female  Missouri   48    1/1/2017   \n",
       "4    26711    Deborah  Esquivel  Female  Missouri   48    1/1/2017   \n",
       "\n",
       "   number_of_dependants marital_status  income  ...  price_range_loc  \\\n",
       "0                     3        married  165665  ...        Mid-range   \n",
       "1                     3        married  165665  ...        Mid-range   \n",
       "2                     3        married  165665  ...        Mid-range   \n",
       "3                     3        married  165665  ...        Low-range   \n",
       "4                     3        married  165665  ...        Low-range   \n",
       "\n",
       "    busiest_day  busiest_days  busiest_period_of_day  max_order  loyalty_flag  \\\n",
       "0  Regular Busy  Busiest days            Most orders          8  New customer   \n",
       "1  Regular Busy  Regular days            Most orders          8  New customer   \n",
       "2  Regular Busy  Busiest days            Most orders          8  New customer   \n",
       "3  Regular Busy  Regular days            Most orders          8  New customer   \n",
       "4  Regular Busy  Slowest days            Most orders          8  New customer   \n",
       "\n",
       "  average_price  spending_flag  median_days_between_orders   order_frequency  \n",
       "0      7.988889    Low spender                        19.0  Regular customer  \n",
       "1      7.988889    Low spender                        19.0  Regular customer  \n",
       "2      7.988889    Low spender                        19.0  Regular customer  \n",
       "3      7.988889    Low spender                        19.0  Regular customer  \n",
       "4      7.988889    Low spender                        19.0  Regular customer  \n",
       "\n",
       "[5 rows x 33 columns]"
      ]
     },
     "execution_count": 7,
     "metadata": {},
     "output_type": "execute_result"
    }
   ],
   "source": [
    "#checking for execution\n",
    "dff.head()"
   ]
  },
  {
   "cell_type": "code",
   "execution_count": 8,
   "id": "da4ab7a3",
   "metadata": {},
   "outputs": [
    {
     "data": {
      "text/plain": [
       "Index(['user_id', 'first_name', 'last_name', 'gender', 'state', 'age',\n",
       "       'date_joined', 'number_of_dependants', 'marital_status', 'income',\n",
       "       'product_id', 'product_name', 'aisle_id', 'department_id', 'prices',\n",
       "       'order_id', 'eval_set', 'order_number', 'order_dow',\n",
       "       'order_hour_of_day', 'days_since_prior_order', 'add_to_cart_order',\n",
       "       'reordered', 'price_range_loc', 'busiest_day', 'busiest_days',\n",
       "       'busiest_period_of_day', 'max_order', 'loyalty_flag', 'average_price',\n",
       "       'spending_flag', 'median_days_between_orders', 'order_frequency'],\n",
       "      dtype='object')"
      ]
     },
     "execution_count": 8,
     "metadata": {},
     "output_type": "execute_result"
    }
   ],
   "source": [
    "dff.columns"
   ]
  },
  {
   "cell_type": "code",
   "execution_count": 9,
   "id": "1ebb8bce",
   "metadata": {},
   "outputs": [],
   "source": [
    "#dropping eval_set,aisle_id coulmns\n",
    "dffd=dff.drop(columns=[\"eval_set\",\"aisle_id\"])"
   ]
  },
  {
   "cell_type": "code",
   "execution_count": 10,
   "id": "acebc5e8",
   "metadata": {},
   "outputs": [
    {
     "data": {
      "text/plain": [
       "Index(['user_id', 'first_name', 'last_name', 'gender', 'state', 'age',\n",
       "       'date_joined', 'number_of_dependants', 'marital_status', 'income',\n",
       "       'product_id', 'product_name', 'department_id', 'prices', 'order_id',\n",
       "       'order_number', 'order_dow', 'order_hour_of_day',\n",
       "       'days_since_prior_order', 'add_to_cart_order', 'reordered',\n",
       "       'price_range_loc', 'busiest_day', 'busiest_days',\n",
       "       'busiest_period_of_day', 'max_order', 'loyalty_flag', 'average_price',\n",
       "       'spending_flag', 'median_days_between_orders', 'order_frequency'],\n",
       "      dtype='object')"
      ]
     },
     "execution_count": 10,
     "metadata": {},
     "output_type": "execute_result"
    }
   ],
   "source": [
    "#checking for execution\n",
    "dffd.columns"
   ]
  },
  {
   "cell_type": "code",
   "execution_count": 11,
   "id": "6d23bd93",
   "metadata": {},
   "outputs": [],
   "source": [
    "# creating a crosstab\n",
    "crosstab = pd.crosstab(dffd[\"days_since_prior_order\"], dffd[\"order_number\"], dropna = False)"
   ]
  },
  {
   "cell_type": "code",
   "execution_count": 12,
   "id": "f81add6e",
   "metadata": {},
   "outputs": [],
   "source": [
    "# copying crosstab to clipboard\n",
    "crosstab.to_clipboard()"
   ]
  },
  {
   "cell_type": "markdown",
   "id": "30dcc904",
   "metadata": {},
   "source": [
    "## 2. Security implications that might exist for the new data will include columns containing personal information: first_name,last_name,income,matiral_status"
   ]
  },
  {
   "cell_type": "markdown",
   "id": "441327a9",
   "metadata": {},
   "source": [
    "## 3. Create a regional segmentation of the data"
   ]
  },
  {
   "cell_type": "code",
   "execution_count": 13,
   "id": "ce5c8c83",
   "metadata": {},
   "outputs": [],
   "source": [
    "# creating a region column\n",
    "dffd[\"region\"]=\"South\"\n",
    "dffd.loc[dffd[\"state\"].isin([\"Maine\",\"New Hampshire\",\"Vermont\",\"Massachusetts\",\"Rhode Island\",\"Connecticut\",\"New York\",\"Pennsylvania\",\"New Jersey\"]),\"region\"]=\"Northeast\"\n",
    "dffd.loc[dffd[\"state\"].isin([\"Wisconsin\",\"Michigan\",\"Illinois\",\"Indiana\",\"Ohio\",\"North Dakota\",\"South Dakota\",\"Nebraska\",\"Kansas\",\"Minnesota\",\"Iowa\",\"Missouri\"]),\"region\"]=\"Midwest\"\n",
    "dffd.loc[dffd[\"state\"].isin([\"Idaho\",\"Montana\",\"Wyoming\",\"Nevada\",\"Utah\",\"Colorado\",\"Arizona\",\"New Mexico\",\"Alaska\",\"Washington\",\"Oregon\",\"California\",\"Hawaii\"]),\"region\"]=\"West\""
   ]
  },
  {
   "cell_type": "code",
   "execution_count": 14,
   "id": "e5b711ee",
   "metadata": {},
   "outputs": [
    {
     "data": {
      "text/plain": [
       "region\n",
       "South        10791885\n",
       "West          8292913\n",
       "Midwest       7597325\n",
       "Northeast     5722736\n",
       "Name: count, dtype: int64"
      ]
     },
     "execution_count": 14,
     "metadata": {},
     "output_type": "execute_result"
    }
   ],
   "source": [
    "# checking for execution\n",
    "dffd[\"region\"].value_counts()"
   ]
  },
  {
   "cell_type": "code",
   "execution_count": 15,
   "id": "065428e7",
   "metadata": {},
   "outputs": [
    {
     "data": {
      "text/html": [
       "<div>\n",
       "<style scoped>\n",
       "    .dataframe tbody tr th:only-of-type {\n",
       "        vertical-align: middle;\n",
       "    }\n",
       "\n",
       "    .dataframe tbody tr th {\n",
       "        vertical-align: top;\n",
       "    }\n",
       "\n",
       "    .dataframe thead th {\n",
       "        text-align: right;\n",
       "    }\n",
       "</style>\n",
       "<table border=\"1\" class=\"dataframe\">\n",
       "  <thead>\n",
       "    <tr style=\"text-align: right;\">\n",
       "      <th></th>\n",
       "      <th>state</th>\n",
       "      <th>region</th>\n",
       "    </tr>\n",
       "  </thead>\n",
       "  <tbody>\n",
       "    <tr>\n",
       "      <th>0</th>\n",
       "      <td>Missouri</td>\n",
       "      <td>Midwest</td>\n",
       "    </tr>\n",
       "    <tr>\n",
       "      <th>1</th>\n",
       "      <td>Missouri</td>\n",
       "      <td>Midwest</td>\n",
       "    </tr>\n",
       "    <tr>\n",
       "      <th>2</th>\n",
       "      <td>Missouri</td>\n",
       "      <td>Midwest</td>\n",
       "    </tr>\n",
       "  </tbody>\n",
       "</table>\n",
       "</div>"
      ],
      "text/plain": [
       "      state   region\n",
       "0  Missouri  Midwest\n",
       "1  Missouri  Midwest\n",
       "2  Missouri  Midwest"
      ]
     },
     "execution_count": 15,
     "metadata": {},
     "output_type": "execute_result"
    }
   ],
   "source": [
    "# checking accuracy\n",
    "dffd[[\"state\",\"region\"]].head(3)"
   ]
  },
  {
   "cell_type": "code",
   "execution_count": 16,
   "id": "ac204e32",
   "metadata": {},
   "outputs": [
    {
     "data": {
      "text/html": [
       "<div>\n",
       "<style scoped>\n",
       "    .dataframe tbody tr th:only-of-type {\n",
       "        vertical-align: middle;\n",
       "    }\n",
       "\n",
       "    .dataframe tbody tr th {\n",
       "        vertical-align: top;\n",
       "    }\n",
       "\n",
       "    .dataframe thead th {\n",
       "        text-align: right;\n",
       "    }\n",
       "</style>\n",
       "<table border=\"1\" class=\"dataframe\">\n",
       "  <thead>\n",
       "    <tr style=\"text-align: right;\">\n",
       "      <th></th>\n",
       "      <th>state</th>\n",
       "      <th>region</th>\n",
       "    </tr>\n",
       "  </thead>\n",
       "  <tbody>\n",
       "    <tr>\n",
       "      <th>32404856</th>\n",
       "      <td>New York</td>\n",
       "      <td>Northeast</td>\n",
       "    </tr>\n",
       "    <tr>\n",
       "      <th>32404857</th>\n",
       "      <td>New York</td>\n",
       "      <td>Northeast</td>\n",
       "    </tr>\n",
       "    <tr>\n",
       "      <th>32404858</th>\n",
       "      <td>New York</td>\n",
       "      <td>Northeast</td>\n",
       "    </tr>\n",
       "  </tbody>\n",
       "</table>\n",
       "</div>"
      ],
      "text/plain": [
       "             state     region\n",
       "32404856  New York  Northeast\n",
       "32404857  New York  Northeast\n",
       "32404858  New York  Northeast"
      ]
     },
     "execution_count": 16,
     "metadata": {},
     "output_type": "execute_result"
    }
   ],
   "source": [
    "dffd[[\"state\",\"region\"]].tail(3)"
   ]
  },
  {
   "cell_type": "markdown",
   "id": "19d6caf2",
   "metadata": {},
   "source": [
    "### Determining spending habits in different regions"
   ]
  },
  {
   "cell_type": "code",
   "execution_count": 17,
   "id": "866bde56",
   "metadata": {},
   "outputs": [],
   "source": [
    "cross=pd.crosstab(dffd[\"spending_flag\"],dffd[\"region\"],dropna=False)"
   ]
  },
  {
   "cell_type": "code",
   "execution_count": 18,
   "id": "214170cf",
   "metadata": {},
   "outputs": [
    {
     "data": {
      "text/html": [
       "<div>\n",
       "<style scoped>\n",
       "    .dataframe tbody tr th:only-of-type {\n",
       "        vertical-align: middle;\n",
       "    }\n",
       "\n",
       "    .dataframe tbody tr th {\n",
       "        vertical-align: top;\n",
       "    }\n",
       "\n",
       "    .dataframe thead th {\n",
       "        text-align: right;\n",
       "    }\n",
       "</style>\n",
       "<table border=\"1\" class=\"dataframe\">\n",
       "  <thead>\n",
       "    <tr style=\"text-align: right;\">\n",
       "      <th>region</th>\n",
       "      <th>Midwest</th>\n",
       "      <th>Northeast</th>\n",
       "      <th>South</th>\n",
       "      <th>West</th>\n",
       "    </tr>\n",
       "    <tr>\n",
       "      <th>spending_flag</th>\n",
       "      <th></th>\n",
       "      <th></th>\n",
       "      <th></th>\n",
       "      <th></th>\n",
       "    </tr>\n",
       "  </thead>\n",
       "  <tbody>\n",
       "    <tr>\n",
       "      <th>High spender</th>\n",
       "      <td>29265</td>\n",
       "      <td>18642</td>\n",
       "      <td>40579</td>\n",
       "      <td>31242</td>\n",
       "    </tr>\n",
       "    <tr>\n",
       "      <th>Low spender</th>\n",
       "      <td>7568060</td>\n",
       "      <td>5704094</td>\n",
       "      <td>10751306</td>\n",
       "      <td>8261671</td>\n",
       "    </tr>\n",
       "  </tbody>\n",
       "</table>\n",
       "</div>"
      ],
      "text/plain": [
       "region         Midwest  Northeast     South     West\n",
       "spending_flag                                       \n",
       "High spender     29265      18642     40579    31242\n",
       "Low spender    7568060    5704094  10751306  8261671"
      ]
     },
     "execution_count": 18,
     "metadata": {},
     "output_type": "execute_result"
    }
   ],
   "source": [
    "cross"
   ]
  },
  {
   "cell_type": "code",
   "execution_count": 19,
   "id": "4d31f76f",
   "metadata": {},
   "outputs": [],
   "source": [
    "# exporting cross\n",
    "cross.to_clipboard()"
   ]
  },
  {
   "cell_type": "markdown",
   "id": "fffa63fb",
   "metadata": {},
   "source": [
    "## 4. Customers who don’t generate much revenue"
   ]
  },
  {
   "cell_type": "code",
   "execution_count": 20,
   "id": "41433aba",
   "metadata": {},
   "outputs": [],
   "source": [
    "#creating an exclusion flag\n",
    "dffd[\"exclusion_flag\"]=dffd[\"max_order\"]<5"
   ]
  },
  {
   "cell_type": "code",
   "execution_count": 21,
   "id": "4d90aaf7",
   "metadata": {},
   "outputs": [
    {
     "data": {
      "text/plain": [
       "exclusion_flag\n",
       "False    30964564\n",
       "True      1440295\n",
       "Name: count, dtype: int64"
      ]
     },
     "execution_count": 21,
     "metadata": {},
     "output_type": "execute_result"
    }
   ],
   "source": [
    "#checking execution\n",
    "dffd[\"exclusion_flag\"].value_counts()"
   ]
  },
  {
   "cell_type": "code",
   "execution_count": 22,
   "id": "fe770828",
   "metadata": {},
   "outputs": [],
   "source": [
    "# data of customers not generating revenue\n",
    "no_revenue_customers=dffd[dffd[\"exclusion_flag\"]]"
   ]
  },
  {
   "cell_type": "code",
   "execution_count": 23,
   "id": "cf0af09a",
   "metadata": {},
   "outputs": [
    {
     "name": "stdout",
     "output_type": "stream",
     "text": [
      "<class 'pandas.core.frame.DataFrame'>\n",
      "Index: 1440295 entries, 729 to 32404858\n",
      "Data columns (total 33 columns):\n",
      " #   Column                      Non-Null Count    Dtype  \n",
      "---  ------                      --------------    -----  \n",
      " 0   user_id                     1440295 non-null  int64  \n",
      " 1   first_name                  1440295 non-null  object \n",
      " 2   last_name                   1440295 non-null  object \n",
      " 3   gender                      1440295 non-null  object \n",
      " 4   state                       1440295 non-null  object \n",
      " 5   age                         1440295 non-null  int64  \n",
      " 6   date_joined                 1440295 non-null  object \n",
      " 7   number_of_dependants        1440295 non-null  int64  \n",
      " 8   marital_status              1440295 non-null  object \n",
      " 9   income                      1440295 non-null  int64  \n",
      " 10  product_id                  1440295 non-null  int64  \n",
      " 11  product_name                1440295 non-null  object \n",
      " 12  department_id               1440295 non-null  int64  \n",
      " 13  prices                      1440045 non-null  float64\n",
      " 14  order_id                    1440295 non-null  int64  \n",
      " 15  order_number                1440295 non-null  int64  \n",
      " 16  order_dow                   1440295 non-null  int64  \n",
      " 17  order_hour_of_day           1440295 non-null  int64  \n",
      " 18  days_since_prior_order      1025482 non-null  float64\n",
      " 19  add_to_cart_order           1440295 non-null  int64  \n",
      " 20  reordered                   1440295 non-null  int64  \n",
      " 21  price_range_loc             1440295 non-null  object \n",
      " 22  busiest_day                 1440295 non-null  object \n",
      " 23  busiest_days                1440295 non-null  object \n",
      " 24  busiest_period_of_day       1440295 non-null  object \n",
      " 25  max_order                   1440295 non-null  int64  \n",
      " 26  loyalty_flag                1440295 non-null  object \n",
      " 27  average_price               1440295 non-null  float64\n",
      " 28  spending_flag               1440295 non-null  object \n",
      " 29  median_days_between_orders  1440290 non-null  float64\n",
      " 30  order_frequency             1440295 non-null  object \n",
      " 31  region                      1440295 non-null  object \n",
      " 32  exclusion_flag              1440295 non-null  bool   \n",
      "dtypes: bool(1), float64(4), int64(13), object(15)\n",
      "memory usage: 364.0+ MB\n"
     ]
    }
   ],
   "source": [
    "#checking for execution\n",
    "no_revenue_customers.info()"
   ]
  },
  {
   "cell_type": "code",
   "execution_count": 24,
   "id": "a7023f4c",
   "metadata": {},
   "outputs": [],
   "source": [
    "#exporting the lsit\n",
    "no_revenue_customers.to_pickle(os.path.join(path,\"no_revenue_customers.pkl\"))"
   ]
  },
  {
   "cell_type": "code",
   "execution_count": 25,
   "id": "82f3eb3d",
   "metadata": {},
   "outputs": [],
   "source": [
    "#creating a frame without no revenue generating customers\n",
    "df_final=dffd[~dffd[\"exclusion_flag\"]]"
   ]
  },
  {
   "cell_type": "code",
   "execution_count": 26,
   "id": "c856c727",
   "metadata": {},
   "outputs": [
    {
     "name": "stdout",
     "output_type": "stream",
     "text": [
      "<class 'pandas.core.frame.DataFrame'>\n",
      "Index: 30964564 entries, 0 to 32404817\n",
      "Data columns (total 33 columns):\n",
      " #   Column                      Dtype  \n",
      "---  ------                      -----  \n",
      " 0   user_id                     int64  \n",
      " 1   first_name                  object \n",
      " 2   last_name                   object \n",
      " 3   gender                      object \n",
      " 4   state                       object \n",
      " 5   age                         int64  \n",
      " 6   date_joined                 object \n",
      " 7   number_of_dependants        int64  \n",
      " 8   marital_status              object \n",
      " 9   income                      int64  \n",
      " 10  product_id                  int64  \n",
      " 11  product_name                object \n",
      " 12  department_id               int64  \n",
      " 13  prices                      float64\n",
      " 14  order_id                    int64  \n",
      " 15  order_number                int64  \n",
      " 16  order_dow                   int64  \n",
      " 17  order_hour_of_day           int64  \n",
      " 18  days_since_prior_order      float64\n",
      " 19  add_to_cart_order           int64  \n",
      " 20  reordered                   int64  \n",
      " 21  price_range_loc             object \n",
      " 22  busiest_day                 object \n",
      " 23  busiest_days                object \n",
      " 24  busiest_period_of_day       object \n",
      " 25  max_order                   int64  \n",
      " 26  loyalty_flag                object \n",
      " 27  average_price               float64\n",
      " 28  spending_flag               object \n",
      " 29  median_days_between_orders  float64\n",
      " 30  order_frequency             object \n",
      " 31  region                      object \n",
      " 32  exclusion_flag              bool   \n",
      "dtypes: bool(1), float64(4), int64(13), object(15)\n",
      "memory usage: 7.6+ GB\n"
     ]
    }
   ],
   "source": [
    "#checking for execution\n",
    "df_final.info()"
   ]
  },
  {
   "cell_type": "code",
   "execution_count": 27,
   "id": "cb6362f3",
   "metadata": {},
   "outputs": [],
   "source": [
    "#exporting the frame without customers generating no revenue\n",
    "df_final.to_pickle(os.path.join(path,\"final_dataframe\"))"
   ]
  },
  {
   "cell_type": "markdown",
   "id": "16bd3e80",
   "metadata": {},
   "source": [
    "## 5. Customer profiling. Create a profiling variable based on age, income, certain goods in the “department_id” column, and number of dependents. You might also use the “orders_day_of_week” and “order_hour_of_day” columns if you can think of a way they would impact customer profiles."
   ]
  },
  {
   "cell_type": "code",
   "execution_count": 28,
   "id": "cb019cea",
   "metadata": {},
   "outputs": [
    {
     "data": {
      "text/plain": [
       "spending_flag\n",
       "Low spender     30867121\n",
       "High spender       97443\n",
       "Name: count, dtype: int64"
      ]
     },
     "execution_count": 28,
     "metadata": {},
     "output_type": "execute_result"
    }
   ],
   "source": [
    "# checking spending flag value count\n",
    "df_final[\"spending_flag\"].value_counts()"
   ]
  },
  {
   "cell_type": "code",
   "execution_count": 29,
   "id": "da0b89bd",
   "metadata": {},
   "outputs": [
    {
     "data": {
      "text/plain": [
       "income\n",
       "72344     4395\n",
       "112610    4242\n",
       "57501     4136\n",
       "115620    3831\n",
       "36163     3657\n",
       "          ... \n",
       "91717        5\n",
       "158963       5\n",
       "59941        5\n",
       "44942        5\n",
       "147660       2\n",
       "Name: count, Length: 96069, dtype: int64"
      ]
     },
     "execution_count": 29,
     "metadata": {},
     "output_type": "execute_result"
    }
   ],
   "source": [
    "# checking income value count\n",
    "df_final[\"income\"].value_counts()"
   ]
  },
  {
   "cell_type": "code",
   "execution_count": 30,
   "id": "ff134982",
   "metadata": {},
   "outputs": [],
   "source": [
    "# creating income groups\n",
    "income_group=[]\n",
    "for x in df_final[\"income\"]:\n",
    "    if x<30000:\n",
    "        income_group.append(\"low income\")\n",
    "    elif x>=30000 and x<100000:\n",
    "        income_group.append(\"medium income\")\n",
    "    else:\n",
    "        income_group.append(\"high income\")"
   ]
  },
  {
   "cell_type": "code",
   "execution_count": 31,
   "id": "737a18ca",
   "metadata": {},
   "outputs": [
    {
     "data": {
      "text/plain": [
       "['high income',\n",
       " 'high income',\n",
       " 'high income',\n",
       " 'high income',\n",
       " 'high income',\n",
       " 'high income',\n",
       " 'high income',\n",
       " 'high income',\n",
       " 'high income',\n",
       " 'high income',\n",
       " 'high income',\n",
       " 'high income',\n",
       " 'high income',\n",
       " 'high income',\n",
       " 'high income',\n",
       " 'high income',\n",
       " 'high income',\n",
       " 'high income',\n",
       " 'medium income',\n",
       " 'medium income',\n",
       " 'medium income',\n",
       " 'medium income',\n",
       " 'medium income',\n",
       " 'medium income',\n",
       " 'medium income',\n",
       " 'medium income',\n",
       " 'medium income',\n",
       " 'medium income',\n",
       " 'medium income',\n",
       " 'medium income',\n",
       " 'medium income',\n",
       " 'medium income',\n",
       " 'medium income',\n",
       " 'medium income',\n",
       " 'medium income',\n",
       " 'medium income',\n",
       " 'medium income',\n",
       " 'medium income',\n",
       " 'medium income',\n",
       " 'medium income',\n",
       " 'medium income',\n",
       " 'medium income',\n",
       " 'medium income',\n",
       " 'medium income',\n",
       " 'medium income',\n",
       " 'medium income',\n",
       " 'medium income',\n",
       " 'medium income',\n",
       " 'medium income',\n",
       " 'medium income',\n",
       " 'medium income',\n",
       " 'medium income',\n",
       " 'medium income',\n",
       " 'medium income',\n",
       " 'medium income',\n",
       " 'medium income',\n",
       " 'medium income',\n",
       " 'medium income',\n",
       " 'medium income',\n",
       " 'medium income',\n",
       " 'medium income',\n",
       " 'medium income',\n",
       " 'medium income',\n",
       " 'medium income',\n",
       " 'medium income',\n",
       " 'medium income',\n",
       " 'medium income',\n",
       " 'medium income',\n",
       " 'medium income',\n",
       " 'medium income',\n",
       " 'medium income',\n",
       " 'medium income',\n",
       " 'medium income',\n",
       " 'medium income',\n",
       " 'medium income',\n",
       " 'medium income',\n",
       " 'medium income',\n",
       " 'medium income',\n",
       " 'medium income',\n",
       " 'medium income',\n",
       " 'medium income',\n",
       " 'medium income',\n",
       " 'medium income',\n",
       " 'medium income',\n",
       " 'medium income',\n",
       " 'medium income',\n",
       " 'medium income',\n",
       " 'medium income',\n",
       " 'medium income',\n",
       " 'medium income',\n",
       " 'medium income',\n",
       " 'medium income',\n",
       " 'medium income',\n",
       " 'medium income',\n",
       " 'medium income',\n",
       " 'medium income',\n",
       " 'medium income',\n",
       " 'medium income',\n",
       " 'medium income',\n",
       " 'medium income',\n",
       " 'medium income',\n",
       " 'medium income',\n",
       " 'medium income',\n",
       " 'medium income',\n",
       " 'medium income',\n",
       " 'medium income',\n",
       " 'medium income',\n",
       " 'medium income',\n",
       " 'medium income',\n",
       " 'medium income',\n",
       " 'medium income',\n",
       " 'medium income',\n",
       " 'medium income',\n",
       " 'medium income',\n",
       " 'medium income',\n",
       " 'medium income',\n",
       " 'medium income',\n",
       " 'medium income',\n",
       " 'medium income',\n",
       " 'medium income',\n",
       " 'medium income',\n",
       " 'medium income',\n",
       " 'medium income',\n",
       " 'medium income',\n",
       " 'medium income',\n",
       " 'medium income',\n",
       " 'medium income',\n",
       " 'medium income',\n",
       " 'medium income',\n",
       " 'medium income',\n",
       " 'medium income',\n",
       " 'medium income',\n",
       " 'medium income',\n",
       " 'medium income',\n",
       " 'medium income',\n",
       " 'medium income',\n",
       " 'medium income',\n",
       " 'medium income',\n",
       " 'medium income',\n",
       " 'medium income',\n",
       " 'medium income',\n",
       " 'medium income',\n",
       " 'medium income',\n",
       " 'medium income',\n",
       " 'medium income',\n",
       " 'medium income',\n",
       " 'medium income',\n",
       " 'medium income',\n",
       " 'medium income',\n",
       " 'medium income',\n",
       " 'medium income',\n",
       " 'medium income',\n",
       " 'medium income',\n",
       " 'medium income',\n",
       " 'medium income',\n",
       " 'medium income',\n",
       " 'medium income',\n",
       " 'medium income',\n",
       " 'medium income',\n",
       " 'medium income',\n",
       " 'medium income',\n",
       " 'medium income',\n",
       " 'medium income',\n",
       " 'medium income',\n",
       " 'medium income',\n",
       " 'medium income',\n",
       " 'medium income',\n",
       " 'medium income',\n",
       " 'medium income',\n",
       " 'medium income',\n",
       " 'medium income',\n",
       " 'medium income',\n",
       " 'medium income',\n",
       " 'medium income',\n",
       " 'medium income',\n",
       " 'medium income',\n",
       " 'medium income',\n",
       " 'medium income',\n",
       " 'medium income',\n",
       " 'medium income',\n",
       " 'medium income',\n",
       " 'medium income',\n",
       " 'medium income',\n",
       " 'medium income',\n",
       " 'medium income',\n",
       " 'medium income',\n",
       " 'medium income',\n",
       " 'medium income',\n",
       " 'medium income',\n",
       " 'medium income',\n",
       " 'medium income',\n",
       " 'medium income',\n",
       " 'medium income',\n",
       " 'medium income',\n",
       " 'medium income',\n",
       " 'medium income',\n",
       " 'medium income',\n",
       " 'medium income',\n",
       " 'medium income',\n",
       " 'medium income',\n",
       " 'medium income',\n",
       " 'medium income',\n",
       " 'medium income',\n",
       " 'medium income',\n",
       " 'medium income',\n",
       " 'medium income',\n",
       " 'medium income',\n",
       " 'medium income',\n",
       " 'medium income',\n",
       " 'medium income',\n",
       " 'medium income',\n",
       " 'medium income',\n",
       " 'medium income',\n",
       " 'medium income',\n",
       " 'medium income',\n",
       " 'medium income',\n",
       " 'medium income',\n",
       " 'medium income',\n",
       " 'medium income',\n",
       " 'medium income',\n",
       " 'medium income',\n",
       " 'medium income',\n",
       " 'medium income',\n",
       " 'medium income',\n",
       " 'medium income',\n",
       " 'medium income',\n",
       " 'medium income',\n",
       " 'medium income',\n",
       " 'medium income',\n",
       " 'medium income',\n",
       " 'medium income',\n",
       " 'medium income',\n",
       " 'medium income',\n",
       " 'medium income',\n",
       " 'medium income',\n",
       " 'medium income',\n",
       " 'medium income',\n",
       " 'medium income',\n",
       " 'medium income',\n",
       " 'medium income',\n",
       " 'medium income',\n",
       " 'medium income',\n",
       " 'medium income',\n",
       " 'medium income',\n",
       " 'medium income',\n",
       " 'medium income',\n",
       " 'medium income',\n",
       " 'medium income',\n",
       " 'medium income',\n",
       " 'medium income',\n",
       " 'medium income',\n",
       " 'medium income',\n",
       " 'medium income',\n",
       " 'medium income',\n",
       " 'medium income',\n",
       " 'medium income',\n",
       " 'medium income',\n",
       " 'medium income',\n",
       " 'medium income',\n",
       " 'medium income',\n",
       " 'medium income',\n",
       " 'medium income',\n",
       " 'medium income',\n",
       " 'medium income',\n",
       " 'medium income',\n",
       " 'medium income',\n",
       " 'medium income',\n",
       " 'medium income',\n",
       " 'medium income',\n",
       " 'medium income',\n",
       " 'medium income',\n",
       " 'medium income',\n",
       " 'medium income',\n",
       " 'medium income',\n",
       " 'medium income',\n",
       " 'medium income',\n",
       " 'medium income',\n",
       " 'medium income',\n",
       " 'medium income',\n",
       " 'medium income',\n",
       " 'medium income',\n",
       " 'medium income',\n",
       " 'medium income',\n",
       " 'medium income',\n",
       " 'medium income',\n",
       " 'medium income',\n",
       " 'medium income',\n",
       " 'medium income',\n",
       " 'medium income',\n",
       " 'medium income',\n",
       " 'medium income',\n",
       " 'medium income',\n",
       " 'medium income',\n",
       " 'medium income',\n",
       " 'medium income',\n",
       " 'medium income',\n",
       " 'medium income',\n",
       " 'medium income',\n",
       " 'medium income',\n",
       " 'medium income',\n",
       " 'medium income',\n",
       " 'medium income',\n",
       " 'medium income',\n",
       " 'medium income',\n",
       " 'medium income',\n",
       " 'medium income',\n",
       " 'medium income',\n",
       " 'medium income',\n",
       " 'medium income',\n",
       " 'medium income',\n",
       " 'medium income',\n",
       " 'medium income',\n",
       " 'medium income',\n",
       " 'medium income',\n",
       " 'medium income',\n",
       " 'medium income',\n",
       " 'medium income',\n",
       " 'medium income',\n",
       " 'medium income',\n",
       " 'medium income',\n",
       " 'medium income',\n",
       " 'medium income',\n",
       " 'medium income',\n",
       " 'medium income',\n",
       " 'medium income',\n",
       " 'medium income',\n",
       " 'medium income',\n",
       " 'medium income',\n",
       " 'medium income',\n",
       " 'medium income',\n",
       " 'medium income',\n",
       " 'medium income',\n",
       " 'medium income',\n",
       " 'medium income',\n",
       " 'medium income',\n",
       " 'medium income',\n",
       " 'medium income',\n",
       " 'medium income',\n",
       " 'medium income',\n",
       " 'medium income',\n",
       " 'medium income',\n",
       " 'medium income',\n",
       " 'medium income',\n",
       " 'medium income',\n",
       " 'medium income',\n",
       " 'medium income',\n",
       " 'medium income',\n",
       " 'medium income',\n",
       " 'medium income',\n",
       " 'medium income',\n",
       " 'medium income',\n",
       " 'medium income',\n",
       " 'medium income',\n",
       " 'medium income',\n",
       " 'medium income',\n",
       " 'medium income',\n",
       " 'medium income',\n",
       " 'medium income',\n",
       " 'medium income',\n",
       " 'medium income',\n",
       " 'medium income',\n",
       " 'medium income',\n",
       " 'medium income',\n",
       " 'medium income',\n",
       " 'medium income',\n",
       " 'medium income',\n",
       " 'medium income',\n",
       " 'medium income',\n",
       " 'medium income',\n",
       " 'medium income',\n",
       " 'medium income',\n",
       " 'medium income',\n",
       " 'medium income',\n",
       " 'medium income',\n",
       " 'medium income',\n",
       " 'medium income',\n",
       " 'medium income',\n",
       " 'medium income',\n",
       " 'medium income',\n",
       " 'medium income',\n",
       " 'medium income',\n",
       " 'medium income',\n",
       " 'medium income',\n",
       " 'medium income',\n",
       " 'medium income',\n",
       " 'medium income',\n",
       " 'medium income',\n",
       " 'medium income',\n",
       " 'medium income',\n",
       " 'medium income',\n",
       " 'medium income',\n",
       " 'medium income',\n",
       " 'medium income',\n",
       " 'medium income',\n",
       " 'medium income',\n",
       " 'medium income',\n",
       " 'medium income',\n",
       " 'medium income',\n",
       " 'medium income',\n",
       " 'medium income',\n",
       " 'medium income',\n",
       " 'medium income',\n",
       " 'medium income',\n",
       " 'medium income',\n",
       " 'medium income',\n",
       " 'medium income',\n",
       " 'medium income',\n",
       " 'medium income',\n",
       " 'medium income',\n",
       " 'medium income',\n",
       " 'medium income',\n",
       " 'medium income',\n",
       " 'medium income',\n",
       " 'medium income',\n",
       " 'medium income',\n",
       " 'medium income',\n",
       " 'medium income',\n",
       " 'medium income',\n",
       " 'medium income',\n",
       " 'medium income',\n",
       " 'medium income',\n",
       " 'medium income',\n",
       " 'medium income',\n",
       " 'medium income',\n",
       " 'medium income',\n",
       " 'medium income',\n",
       " 'medium income',\n",
       " 'medium income',\n",
       " 'medium income',\n",
       " 'medium income',\n",
       " 'medium income',\n",
       " 'medium income',\n",
       " 'medium income',\n",
       " 'medium income',\n",
       " 'medium income',\n",
       " 'medium income',\n",
       " 'medium income',\n",
       " 'medium income',\n",
       " 'medium income',\n",
       " 'medium income',\n",
       " 'medium income',\n",
       " 'medium income',\n",
       " 'medium income',\n",
       " 'medium income',\n",
       " 'medium income',\n",
       " 'medium income',\n",
       " 'medium income',\n",
       " 'medium income',\n",
       " 'medium income',\n",
       " 'medium income',\n",
       " 'medium income',\n",
       " 'medium income',\n",
       " 'medium income',\n",
       " 'medium income',\n",
       " 'medium income',\n",
       " 'medium income',\n",
       " 'medium income',\n",
       " 'medium income',\n",
       " 'medium income',\n",
       " 'medium income',\n",
       " 'medium income',\n",
       " 'medium income',\n",
       " 'medium income',\n",
       " 'medium income',\n",
       " 'medium income',\n",
       " 'medium income',\n",
       " 'medium income',\n",
       " 'medium income',\n",
       " 'medium income',\n",
       " 'medium income',\n",
       " 'medium income',\n",
       " 'medium income',\n",
       " 'medium income',\n",
       " 'medium income',\n",
       " 'medium income',\n",
       " 'medium income',\n",
       " 'medium income',\n",
       " 'medium income',\n",
       " 'medium income',\n",
       " 'medium income',\n",
       " 'medium income',\n",
       " 'medium income',\n",
       " 'medium income',\n",
       " 'medium income',\n",
       " 'medium income',\n",
       " 'medium income',\n",
       " 'medium income',\n",
       " 'medium income',\n",
       " 'medium income',\n",
       " 'medium income',\n",
       " 'medium income',\n",
       " 'medium income',\n",
       " 'medium income',\n",
       " 'medium income',\n",
       " 'medium income',\n",
       " 'medium income',\n",
       " 'medium income',\n",
       " 'medium income',\n",
       " 'medium income',\n",
       " 'medium income',\n",
       " 'medium income',\n",
       " 'medium income',\n",
       " 'medium income',\n",
       " 'medium income',\n",
       " 'medium income',\n",
       " 'medium income',\n",
       " 'medium income',\n",
       " 'medium income',\n",
       " 'medium income',\n",
       " 'medium income',\n",
       " 'medium income',\n",
       " 'medium income',\n",
       " 'medium income',\n",
       " 'medium income',\n",
       " 'medium income',\n",
       " 'medium income',\n",
       " 'medium income',\n",
       " 'medium income',\n",
       " 'medium income',\n",
       " 'medium income',\n",
       " 'medium income',\n",
       " 'medium income',\n",
       " 'medium income',\n",
       " 'medium income',\n",
       " 'medium income',\n",
       " 'medium income',\n",
       " 'medium income',\n",
       " 'medium income',\n",
       " 'medium income',\n",
       " 'medium income',\n",
       " 'medium income',\n",
       " 'medium income',\n",
       " 'medium income',\n",
       " 'medium income',\n",
       " 'medium income',\n",
       " 'medium income',\n",
       " 'medium income',\n",
       " 'medium income',\n",
       " 'medium income',\n",
       " 'medium income',\n",
       " 'medium income',\n",
       " 'medium income',\n",
       " 'medium income',\n",
       " 'medium income',\n",
       " 'medium income',\n",
       " 'medium income',\n",
       " 'medium income',\n",
       " 'medium income',\n",
       " 'medium income',\n",
       " 'medium income',\n",
       " 'medium income',\n",
       " 'medium income',\n",
       " 'medium income',\n",
       " 'medium income',\n",
       " 'medium income',\n",
       " 'medium income',\n",
       " 'medium income',\n",
       " 'medium income',\n",
       " 'medium income',\n",
       " 'medium income',\n",
       " 'medium income',\n",
       " 'medium income',\n",
       " 'medium income',\n",
       " 'medium income',\n",
       " 'medium income',\n",
       " 'medium income',\n",
       " 'medium income',\n",
       " 'medium income',\n",
       " 'medium income',\n",
       " 'medium income',\n",
       " 'medium income',\n",
       " 'medium income',\n",
       " 'medium income',\n",
       " 'medium income',\n",
       " 'medium income',\n",
       " 'medium income',\n",
       " 'medium income',\n",
       " 'medium income',\n",
       " 'medium income',\n",
       " 'medium income',\n",
       " 'medium income',\n",
       " 'medium income',\n",
       " 'medium income',\n",
       " 'medium income',\n",
       " 'medium income',\n",
       " 'medium income',\n",
       " 'medium income',\n",
       " 'medium income',\n",
       " 'medium income',\n",
       " 'medium income',\n",
       " 'medium income',\n",
       " 'medium income',\n",
       " 'medium income',\n",
       " 'medium income',\n",
       " 'medium income',\n",
       " 'medium income',\n",
       " 'medium income',\n",
       " 'medium income',\n",
       " 'medium income',\n",
       " 'medium income',\n",
       " 'medium income',\n",
       " 'medium income',\n",
       " 'medium income',\n",
       " 'medium income',\n",
       " 'medium income',\n",
       " 'medium income',\n",
       " 'medium income',\n",
       " 'medium income',\n",
       " 'medium income',\n",
       " 'medium income',\n",
       " 'medium income',\n",
       " 'medium income',\n",
       " 'medium income',\n",
       " 'medium income',\n",
       " 'medium income',\n",
       " 'medium income',\n",
       " 'medium income',\n",
       " 'medium income',\n",
       " 'medium income',\n",
       " 'medium income',\n",
       " 'medium income',\n",
       " 'medium income',\n",
       " 'medium income',\n",
       " 'medium income',\n",
       " 'medium income',\n",
       " 'medium income',\n",
       " 'medium income',\n",
       " 'medium income',\n",
       " 'medium income',\n",
       " 'medium income',\n",
       " 'medium income',\n",
       " 'medium income',\n",
       " 'medium income',\n",
       " 'medium income',\n",
       " 'medium income',\n",
       " 'medium income',\n",
       " 'medium income',\n",
       " 'medium income',\n",
       " 'medium income',\n",
       " 'medium income',\n",
       " 'medium income',\n",
       " 'medium income',\n",
       " 'medium income',\n",
       " 'medium income',\n",
       " 'medium income',\n",
       " 'medium income',\n",
       " 'medium income',\n",
       " 'medium income',\n",
       " 'medium income',\n",
       " 'medium income',\n",
       " 'medium income',\n",
       " 'medium income',\n",
       " 'medium income',\n",
       " 'medium income',\n",
       " 'medium income',\n",
       " 'medium income',\n",
       " 'medium income',\n",
       " 'medium income',\n",
       " 'medium income',\n",
       " 'medium income',\n",
       " 'medium income',\n",
       " 'medium income',\n",
       " 'medium income',\n",
       " 'medium income',\n",
       " 'medium income',\n",
       " 'medium income',\n",
       " 'medium income',\n",
       " 'medium income',\n",
       " 'medium income',\n",
       " 'medium income',\n",
       " 'medium income',\n",
       " 'medium income',\n",
       " 'medium income',\n",
       " 'medium income',\n",
       " 'medium income',\n",
       " 'medium income',\n",
       " 'medium income',\n",
       " 'medium income',\n",
       " 'medium income',\n",
       " 'medium income',\n",
       " 'medium income',\n",
       " 'medium income',\n",
       " 'medium income',\n",
       " 'medium income',\n",
       " 'medium income',\n",
       " 'medium income',\n",
       " 'medium income',\n",
       " 'medium income',\n",
       " 'medium income',\n",
       " 'medium income',\n",
       " 'medium income',\n",
       " 'medium income',\n",
       " 'medium income',\n",
       " 'medium income',\n",
       " 'medium income',\n",
       " 'medium income',\n",
       " 'medium income',\n",
       " 'medium income',\n",
       " 'medium income',\n",
       " 'medium income',\n",
       " 'medium income',\n",
       " 'medium income',\n",
       " 'medium income',\n",
       " 'medium income',\n",
       " 'medium income',\n",
       " 'medium income',\n",
       " 'medium income',\n",
       " 'medium income',\n",
       " 'medium income',\n",
       " 'medium income',\n",
       " 'medium income',\n",
       " 'medium income',\n",
       " 'medium income',\n",
       " 'medium income',\n",
       " 'medium income',\n",
       " 'medium income',\n",
       " 'medium income',\n",
       " 'medium income',\n",
       " 'medium income',\n",
       " 'medium income',\n",
       " 'medium income',\n",
       " 'medium income',\n",
       " 'medium income',\n",
       " 'medium income',\n",
       " 'medium income',\n",
       " 'medium income',\n",
       " 'medium income',\n",
       " 'medium income',\n",
       " 'medium income',\n",
       " 'high income',\n",
       " 'high income',\n",
       " 'high income',\n",
       " 'high income',\n",
       " 'high income',\n",
       " 'high income',\n",
       " 'high income',\n",
       " 'high income',\n",
       " 'high income',\n",
       " 'high income',\n",
       " 'high income',\n",
       " 'high income',\n",
       " 'high income',\n",
       " 'high income',\n",
       " 'high income',\n",
       " 'high income',\n",
       " 'high income',\n",
       " 'high income',\n",
       " 'high income',\n",
       " 'high income',\n",
       " 'high income',\n",
       " 'high income',\n",
       " 'high income',\n",
       " 'high income',\n",
       " 'high income',\n",
       " 'high income',\n",
       " 'high income',\n",
       " 'high income',\n",
       " 'high income',\n",
       " 'high income',\n",
       " 'high income',\n",
       " 'high income',\n",
       " 'high income',\n",
       " 'high income',\n",
       " 'high income',\n",
       " 'high income',\n",
       " 'high income',\n",
       " 'high income',\n",
       " 'high income',\n",
       " 'high income',\n",
       " 'high income',\n",
       " 'high income',\n",
       " 'high income',\n",
       " 'high income',\n",
       " 'high income',\n",
       " 'high income',\n",
       " 'high income',\n",
       " 'high income',\n",
       " 'high income',\n",
       " 'high income',\n",
       " 'high income',\n",
       " 'high income',\n",
       " 'high income',\n",
       " 'high income',\n",
       " 'high income',\n",
       " 'high income',\n",
       " 'high income',\n",
       " 'high income',\n",
       " 'high income',\n",
       " 'high income',\n",
       " 'high income',\n",
       " 'high income',\n",
       " 'high income',\n",
       " 'high income',\n",
       " 'high income',\n",
       " 'high income',\n",
       " 'high income',\n",
       " 'high income',\n",
       " 'high income',\n",
       " 'high income',\n",
       " 'high income',\n",
       " 'high income',\n",
       " 'high income',\n",
       " 'high income',\n",
       " 'high income',\n",
       " 'high income',\n",
       " 'high income',\n",
       " 'high income',\n",
       " 'high income',\n",
       " 'high income',\n",
       " 'high income',\n",
       " 'high income',\n",
       " 'high income',\n",
       " 'high income',\n",
       " 'high income',\n",
       " 'high income',\n",
       " 'high income',\n",
       " 'high income',\n",
       " 'high income',\n",
       " 'high income',\n",
       " 'medium income',\n",
       " 'medium income',\n",
       " 'medium income',\n",
       " 'medium income',\n",
       " 'medium income',\n",
       " 'medium income',\n",
       " 'medium income',\n",
       " 'medium income',\n",
       " 'medium income',\n",
       " 'medium income',\n",
       " 'medium income',\n",
       " 'medium income',\n",
       " 'medium income',\n",
       " 'medium income',\n",
       " 'medium income',\n",
       " 'medium income',\n",
       " 'medium income',\n",
       " 'medium income',\n",
       " 'medium income',\n",
       " 'medium income',\n",
       " 'medium income',\n",
       " 'medium income',\n",
       " 'medium income',\n",
       " 'medium income',\n",
       " 'medium income',\n",
       " 'medium income',\n",
       " 'medium income',\n",
       " 'medium income',\n",
       " 'medium income',\n",
       " 'medium income',\n",
       " 'medium income',\n",
       " 'medium income',\n",
       " 'medium income',\n",
       " 'medium income',\n",
       " 'medium income',\n",
       " 'medium income',\n",
       " 'medium income',\n",
       " 'medium income',\n",
       " 'medium income',\n",
       " 'medium income',\n",
       " 'medium income',\n",
       " 'medium income',\n",
       " 'medium income',\n",
       " 'medium income',\n",
       " 'medium income',\n",
       " 'medium income',\n",
       " 'medium income',\n",
       " 'medium income',\n",
       " 'medium income',\n",
       " 'medium income',\n",
       " 'medium income',\n",
       " 'medium income',\n",
       " 'medium income',\n",
       " 'medium income',\n",
       " 'medium income',\n",
       " 'medium income',\n",
       " 'medium income',\n",
       " 'medium income',\n",
       " 'medium income',\n",
       " 'medium income',\n",
       " 'medium income',\n",
       " 'medium income',\n",
       " 'medium income',\n",
       " 'medium income',\n",
       " 'medium income',\n",
       " 'medium income',\n",
       " 'medium income',\n",
       " 'medium income',\n",
       " 'medium income',\n",
       " 'medium income',\n",
       " 'medium income',\n",
       " 'medium income',\n",
       " 'medium income',\n",
       " 'medium income',\n",
       " 'medium income',\n",
       " 'medium income',\n",
       " 'medium income',\n",
       " 'medium income',\n",
       " 'medium income',\n",
       " 'medium income',\n",
       " 'medium income',\n",
       " 'medium income',\n",
       " 'medium income',\n",
       " 'medium income',\n",
       " 'medium income',\n",
       " 'medium income',\n",
       " 'medium income',\n",
       " 'medium income',\n",
       " 'medium income',\n",
       " 'medium income',\n",
       " 'medium income',\n",
       " 'medium income',\n",
       " 'medium income',\n",
       " 'medium income',\n",
       " 'medium income',\n",
       " 'medium income',\n",
       " 'medium income',\n",
       " 'medium income',\n",
       " 'medium income',\n",
       " 'medium income',\n",
       " 'medium income',\n",
       " 'medium income',\n",
       " 'medium income',\n",
       " 'medium income',\n",
       " 'medium income',\n",
       " 'medium income',\n",
       " 'medium income',\n",
       " 'medium income',\n",
       " 'medium income',\n",
       " 'medium income',\n",
       " 'medium income',\n",
       " 'medium income',\n",
       " 'medium income',\n",
       " 'medium income',\n",
       " 'medium income',\n",
       " 'medium income',\n",
       " 'medium income',\n",
       " 'medium income',\n",
       " 'medium income',\n",
       " 'medium income',\n",
       " 'medium income',\n",
       " 'medium income',\n",
       " 'medium income',\n",
       " 'medium income',\n",
       " 'medium income',\n",
       " 'medium income',\n",
       " 'medium income',\n",
       " 'medium income',\n",
       " 'medium income',\n",
       " 'medium income',\n",
       " 'medium income',\n",
       " 'medium income',\n",
       " 'medium income',\n",
       " 'medium income',\n",
       " 'medium income',\n",
       " 'medium income',\n",
       " 'medium income',\n",
       " 'medium income',\n",
       " 'medium income',\n",
       " 'medium income',\n",
       " 'medium income',\n",
       " 'medium income',\n",
       " 'medium income',\n",
       " 'medium income',\n",
       " 'medium income',\n",
       " 'medium income',\n",
       " 'medium income',\n",
       " 'medium income',\n",
       " 'medium income',\n",
       " 'medium income',\n",
       " 'medium income',\n",
       " 'medium income',\n",
       " 'medium income',\n",
       " 'medium income',\n",
       " 'medium income',\n",
       " 'medium income',\n",
       " 'medium income',\n",
       " 'medium income',\n",
       " 'medium income',\n",
       " 'medium income',\n",
       " 'medium income',\n",
       " 'medium income',\n",
       " 'medium income',\n",
       " 'medium income',\n",
       " 'medium income',\n",
       " 'medium income',\n",
       " 'medium income',\n",
       " 'medium income',\n",
       " 'medium income',\n",
       " 'medium income',\n",
       " 'medium income',\n",
       " 'medium income',\n",
       " 'medium income',\n",
       " 'medium income',\n",
       " 'medium income',\n",
       " 'medium income',\n",
       " 'medium income',\n",
       " 'medium income',\n",
       " 'medium income',\n",
       " 'medium income',\n",
       " 'medium income',\n",
       " ...]"
      ]
     },
     "execution_count": 31,
     "metadata": {},
     "output_type": "execute_result"
    }
   ],
   "source": [
    "# checking for execution\n",
    "income_group"
   ]
  },
  {
   "cell_type": "code",
   "execution_count": 32,
   "id": "ee88231d",
   "metadata": {},
   "outputs": [
    {
     "name": "stderr",
     "output_type": "stream",
     "text": [
      "C:\\Users\\Sam\\AppData\\Local\\Temp\\ipykernel_3112\\1199764753.py:1: SettingWithCopyWarning: \n",
      "A value is trying to be set on a copy of a slice from a DataFrame.\n",
      "Try using .loc[row_indexer,col_indexer] = value instead\n",
      "\n",
      "See the caveats in the documentation: https://pandas.pydata.org/pandas-docs/stable/user_guide/indexing.html#returning-a-view-versus-a-copy\n",
      "  df_final[\"income_group\"]=income_group\n"
     ]
    }
   ],
   "source": [
    "df_final[\"income_group\"]=income_group"
   ]
  },
  {
   "cell_type": "code",
   "execution_count": 33,
   "id": "1d99893f",
   "metadata": {},
   "outputs": [
    {
     "data": {
      "text/plain": [
       "Index(['user_id', 'first_name', 'last_name', 'gender', 'state', 'age',\n",
       "       'date_joined', 'number_of_dependants', 'marital_status', 'income',\n",
       "       'product_id', 'product_name', 'department_id', 'prices', 'order_id',\n",
       "       'order_number', 'order_dow', 'order_hour_of_day',\n",
       "       'days_since_prior_order', 'add_to_cart_order', 'reordered',\n",
       "       'price_range_loc', 'busiest_day', 'busiest_days',\n",
       "       'busiest_period_of_day', 'max_order', 'loyalty_flag', 'average_price',\n",
       "       'spending_flag', 'median_days_between_orders', 'order_frequency',\n",
       "       'region', 'exclusion_flag', 'income_group'],\n",
       "      dtype='object')"
      ]
     },
     "execution_count": 33,
     "metadata": {},
     "output_type": "execute_result"
    }
   ],
   "source": [
    "#checking for execution\n",
    "df_final.columns"
   ]
  },
  {
   "cell_type": "code",
   "execution_count": 34,
   "id": "94cfdf79",
   "metadata": {},
   "outputs": [
    {
     "data": {
      "text/plain": [
       "income_group\n",
       "medium income    16563292\n",
       "high income      14207402\n",
       "low income         193870\n",
       "Name: count, dtype: int64"
      ]
     },
     "execution_count": 34,
     "metadata": {},
     "output_type": "execute_result"
    }
   ],
   "source": [
    "#getting value count for income_group\n",
    "df_final[\"income_group\"].value_counts()"
   ]
  },
  {
   "cell_type": "code",
   "execution_count": 35,
   "id": "a32489a6",
   "metadata": {},
   "outputs": [
    {
     "data": {
      "text/plain": [
       "Text(0.5, 0, 'Income Group')"
      ]
     },
     "execution_count": 35,
     "metadata": {},
     "output_type": "execute_result"
    },
    {
     "data": {
      "image/png": "[encoded data removed]",
      "text/plain": [
       "<Figure size 640x480 with 1 Axes>"
      ]
     },
     "metadata": {},
     "output_type": "display_data"
    }
   ],
   "source": [
    "# creating a pie chart for income_group\n",
    "bar=df_final[\"income_group\"].value_counts().plot.bar(color=[\"Black\",\"Blue\",\"Grey\"])\n",
    "plt.ylabel(\"Number of Customers in mln\")\n",
    "plt.xlabel(\"Income Group\")"
   ]
  },
  {
   "cell_type": "code",
   "execution_count": 36,
   "id": "49171ac2",
   "metadata": {},
   "outputs": [],
   "source": [
    "# exporting chart\n",
    "path1=r\"C:\\Users\\Sam\\Desktop\\CF\\Project 4 Instacart Basket\\Instacart Basket Analysis\\04 Analysis\"\n",
    "bar.figure.savefig(os.path.join(path1,\"visualizations\",\"Income_group_bar.png\"))"
   ]
  },
  {
   "cell_type": "code",
   "execution_count": 37,
   "id": "65c4ff19",
   "metadata": {},
   "outputs": [
    {
     "name": "stderr",
     "output_type": "stream",
     "text": [
      "C:\\Users\\Sam\\AppData\\Local\\Temp\\ipykernel_3112\\1941542954.py:10: SettingWithCopyWarning: \n",
      "A value is trying to be set on a copy of a slice from a DataFrame.\n",
      "Try using .loc[row_indexer,col_indexer] = value instead\n",
      "\n",
      "See the caveats in the documentation: https://pandas.pydata.org/pandas-docs/stable/user_guide/indexing.html#returning-a-view-versus-a-copy\n",
      "  df_final[\"age_group\"]=age_groups\n"
     ]
    }
   ],
   "source": [
    "#creating age groups\n",
    "age_groups=[]\n",
    "for x in df_final[\"age\"]:\n",
    "    if x<20:\n",
    "        age_groups.append(\"Young\")\n",
    "    elif x>=20 and x<65:\n",
    "        age_groups.append(\"Working-age adult\")\n",
    "    else:\n",
    "        age_groups.append(\"Elderly\")\n",
    "df_final[\"age_group\"]=age_groups"
   ]
  },
  {
   "cell_type": "code",
   "execution_count": 38,
   "id": "000e4828",
   "metadata": {},
   "outputs": [
    {
     "data": {
      "text/plain": [
       "age_group\n",
       "Working-age adult    21794486\n",
       "Elderly               8195544\n",
       "Young                  974534\n",
       "Name: count, dtype: int64"
      ]
     },
     "execution_count": 38,
     "metadata": {},
     "output_type": "execute_result"
    }
   ],
   "source": [
    "#checking for execution\n",
    "df_final[\"age_group\"].value_counts()"
   ]
  },
  {
   "cell_type": "code",
   "execution_count": 39,
   "id": "7b6fa687",
   "metadata": {},
   "outputs": [
    {
     "data": {
      "image/png": "[encoded data removed]",
      "text/plain": [
       "<Figure size 500x500 with 1 Axes>"
      ]
     },
     "metadata": {},
     "output_type": "display_data"
    }
   ],
   "source": [
    "#creating a pie chart for the age group\n",
    "age_pie=df_final[\"age_group\"].value_counts().plot(kind=\"pie\",figsize=(5, 5),autopct='%.2f%%')"
   ]
  },
  {
   "cell_type": "code",
   "execution_count": 40,
   "id": "3c57797c",
   "metadata": {},
   "outputs": [],
   "source": [
    "# exporting the pie chart\n",
    "age_pie.figure.savefig(os.path.join(path1,\"visualizations\",\"age_groups_pie_chart\"))"
   ]
  },
  {
   "cell_type": "markdown",
   "id": "1f89c11c",
   "metadata": {},
   "source": [
    "#### Creating a dependent flag"
   ]
  },
  {
   "cell_type": "code",
   "execution_count": 41,
   "id": "a74c1882",
   "metadata": {},
   "outputs": [
    {
     "ename": "ValueError",
     "evalue": "Length of values (162631) does not match length of index (30964564)",
     "output_type": "error",
     "traceback": [
      "\u001b[1;31m---------------------------------------------------------------------------\u001b[0m",
      "\u001b[1;31mValueError\u001b[0m                                Traceback (most recent call last)",
      "Cell \u001b[1;32mIn[41], line 2\u001b[0m\n\u001b[0;32m      1\u001b[0m \u001b[38;5;66;03m#grouping by user id\u001b[39;00m\n\u001b[1;32m----> 2\u001b[0m df_final[\u001b[38;5;124m\"\u001b[39m\u001b[38;5;124mdependent\u001b[39m\u001b[38;5;124m\"\u001b[39m]\u001b[38;5;241m=\u001b[39mdf_final\u001b[38;5;241m.\u001b[39mgroupby([\u001b[38;5;124m\"\u001b[39m\u001b[38;5;124muser_id\u001b[39m\u001b[38;5;124m\"\u001b[39m])[\u001b[38;5;124m\"\u001b[39m\u001b[38;5;124mnumber_of_dependants\u001b[39m\u001b[38;5;124m\"\u001b[39m]\n",
      "File \u001b[1;32m~\\anaconda3\\Lib\\site-packages\\pandas\\core\\frame.py:4091\u001b[0m, in \u001b[0;36mDataFrame.__setitem__\u001b[1;34m(self, key, value)\u001b[0m\n\u001b[0;32m   4088\u001b[0m     \u001b[38;5;28mself\u001b[39m\u001b[38;5;241m.\u001b[39m_setitem_array([key], value)\n\u001b[0;32m   4089\u001b[0m \u001b[38;5;28;01melse\u001b[39;00m:\n\u001b[0;32m   4090\u001b[0m     \u001b[38;5;66;03m# set column\u001b[39;00m\n\u001b[1;32m-> 4091\u001b[0m     \u001b[38;5;28mself\u001b[39m\u001b[38;5;241m.\u001b[39m_set_item(key, value)\n",
      "File \u001b[1;32m~\\anaconda3\\Lib\\site-packages\\pandas\\core\\frame.py:4300\u001b[0m, in \u001b[0;36mDataFrame._set_item\u001b[1;34m(self, key, value)\u001b[0m\n\u001b[0;32m   4290\u001b[0m \u001b[38;5;28;01mdef\u001b[39;00m \u001b[38;5;21m_set_item\u001b[39m(\u001b[38;5;28mself\u001b[39m, key, value) \u001b[38;5;241m-\u001b[39m\u001b[38;5;241m>\u001b[39m \u001b[38;5;28;01mNone\u001b[39;00m:\n\u001b[0;32m   4291\u001b[0m \u001b[38;5;250m    \u001b[39m\u001b[38;5;124;03m\"\"\"\u001b[39;00m\n\u001b[0;32m   4292\u001b[0m \u001b[38;5;124;03m    Add series to DataFrame in specified column.\u001b[39;00m\n\u001b[0;32m   4293\u001b[0m \n\u001b[1;32m   (...)\u001b[0m\n\u001b[0;32m   4298\u001b[0m \u001b[38;5;124;03m    ensure homogeneity.\u001b[39;00m\n\u001b[0;32m   4299\u001b[0m \u001b[38;5;124;03m    \"\"\"\u001b[39;00m\n\u001b[1;32m-> 4300\u001b[0m     value, refs \u001b[38;5;241m=\u001b[39m \u001b[38;5;28mself\u001b[39m\u001b[38;5;241m.\u001b[39m_sanitize_column(value)\n\u001b[0;32m   4302\u001b[0m     \u001b[38;5;28;01mif\u001b[39;00m (\n\u001b[0;32m   4303\u001b[0m         key \u001b[38;5;129;01min\u001b[39;00m \u001b[38;5;28mself\u001b[39m\u001b[38;5;241m.\u001b[39mcolumns\n\u001b[0;32m   4304\u001b[0m         \u001b[38;5;129;01mand\u001b[39;00m value\u001b[38;5;241m.\u001b[39mndim \u001b[38;5;241m==\u001b[39m \u001b[38;5;241m1\u001b[39m\n\u001b[0;32m   4305\u001b[0m         \u001b[38;5;129;01mand\u001b[39;00m \u001b[38;5;129;01mnot\u001b[39;00m \u001b[38;5;28misinstance\u001b[39m(value\u001b[38;5;241m.\u001b[39mdtype, ExtensionDtype)\n\u001b[0;32m   4306\u001b[0m     ):\n\u001b[0;32m   4307\u001b[0m         \u001b[38;5;66;03m# broadcast across multiple columns if necessary\u001b[39;00m\n\u001b[0;32m   4308\u001b[0m         \u001b[38;5;28;01mif\u001b[39;00m \u001b[38;5;129;01mnot\u001b[39;00m \u001b[38;5;28mself\u001b[39m\u001b[38;5;241m.\u001b[39mcolumns\u001b[38;5;241m.\u001b[39mis_unique \u001b[38;5;129;01mor\u001b[39;00m \u001b[38;5;28misinstance\u001b[39m(\u001b[38;5;28mself\u001b[39m\u001b[38;5;241m.\u001b[39mcolumns, MultiIndex):\n",
      "File \u001b[1;32m~\\anaconda3\\Lib\\site-packages\\pandas\\core\\frame.py:5039\u001b[0m, in \u001b[0;36mDataFrame._sanitize_column\u001b[1;34m(self, value)\u001b[0m\n\u001b[0;32m   5036\u001b[0m     \u001b[38;5;28;01mreturn\u001b[39;00m _reindex_for_setitem(value, \u001b[38;5;28mself\u001b[39m\u001b[38;5;241m.\u001b[39mindex)\n\u001b[0;32m   5038\u001b[0m \u001b[38;5;28;01mif\u001b[39;00m is_list_like(value):\n\u001b[1;32m-> 5039\u001b[0m     com\u001b[38;5;241m.\u001b[39mrequire_length_match(value, \u001b[38;5;28mself\u001b[39m\u001b[38;5;241m.\u001b[39mindex)\n\u001b[0;32m   5040\u001b[0m \u001b[38;5;28;01mreturn\u001b[39;00m sanitize_array(value, \u001b[38;5;28mself\u001b[39m\u001b[38;5;241m.\u001b[39mindex, copy\u001b[38;5;241m=\u001b[39m\u001b[38;5;28;01mTrue\u001b[39;00m, allow_2d\u001b[38;5;241m=\u001b[39m\u001b[38;5;28;01mTrue\u001b[39;00m), \u001b[38;5;28;01mNone\u001b[39;00m\n",
      "File \u001b[1;32m~\\anaconda3\\Lib\\site-packages\\pandas\\core\\common.py:561\u001b[0m, in \u001b[0;36mrequire_length_match\u001b[1;34m(data, index)\u001b[0m\n\u001b[0;32m    557\u001b[0m \u001b[38;5;250m\u001b[39m\u001b[38;5;124;03m\"\"\"\u001b[39;00m\n\u001b[0;32m    558\u001b[0m \u001b[38;5;124;03mCheck the length of data matches the length of the index.\u001b[39;00m\n\u001b[0;32m    559\u001b[0m \u001b[38;5;124;03m\"\"\"\u001b[39;00m\n\u001b[0;32m    560\u001b[0m \u001b[38;5;28;01mif\u001b[39;00m \u001b[38;5;28mlen\u001b[39m(data) \u001b[38;5;241m!=\u001b[39m \u001b[38;5;28mlen\u001b[39m(index):\n\u001b[1;32m--> 561\u001b[0m     \u001b[38;5;28;01mraise\u001b[39;00m \u001b[38;5;167;01mValueError\u001b[39;00m(\n\u001b[0;32m    562\u001b[0m         \u001b[38;5;124m\"\u001b[39m\u001b[38;5;124mLength of values \u001b[39m\u001b[38;5;124m\"\u001b[39m\n\u001b[0;32m    563\u001b[0m         \u001b[38;5;124mf\u001b[39m\u001b[38;5;124m\"\u001b[39m\u001b[38;5;124m(\u001b[39m\u001b[38;5;132;01m{\u001b[39;00m\u001b[38;5;28mlen\u001b[39m(data)\u001b[38;5;132;01m}\u001b[39;00m\u001b[38;5;124m) \u001b[39m\u001b[38;5;124m\"\u001b[39m\n\u001b[0;32m    564\u001b[0m         \u001b[38;5;124m\"\u001b[39m\u001b[38;5;124mdoes not match length of index \u001b[39m\u001b[38;5;124m\"\u001b[39m\n\u001b[0;32m    565\u001b[0m         \u001b[38;5;124mf\u001b[39m\u001b[38;5;124m\"\u001b[39m\u001b[38;5;124m(\u001b[39m\u001b[38;5;132;01m{\u001b[39;00m\u001b[38;5;28mlen\u001b[39m(index)\u001b[38;5;132;01m}\u001b[39;00m\u001b[38;5;124m)\u001b[39m\u001b[38;5;124m\"\u001b[39m\n\u001b[0;32m    566\u001b[0m     )\n",
      "\u001b[1;31mValueError\u001b[0m: Length of values (162631) does not match length of index (30964564)"
     ]
    }
   ],
   "source": [
    "#grouping by user id\n",
    "df_final[\"dependent\"]=df_final.groupby([\"user_id\"])[\"number_of_dependants\"]"
   ]
  },
  {
   "cell_type": "code",
   "execution_count": 42,
   "id": "5cf9e20e",
   "metadata": {},
   "outputs": [
    {
     "name": "stderr",
     "output_type": "stream",
     "text": [
      "C:\\Users\\Sam\\AppData\\Local\\Temp\\ipykernel_3112\\2327523071.py:2: SettingWithCopyWarning: \n",
      "A value is trying to be set on a copy of a slice from a DataFrame.\n",
      "Try using .loc[row_indexer,col_indexer] = value instead\n",
      "\n",
      "See the caveats in the documentation: https://pandas.pydata.org/pandas-docs/stable/user_guide/indexing.html#returning-a-view-versus-a-copy\n",
      "  df_final[\"dependent\"]=df_final.groupby([\"user_id\"])[\"number_of_dependants\"].transform(\"mean\")\n"
     ]
    }
   ],
   "source": [
    "# transforming with mean \n",
    "df_final[\"dependent\"]=df_final.groupby([\"user_id\"])[\"number_of_dependants\"].transform(\"mean\")"
   ]
  },
  {
   "cell_type": "code",
   "execution_count": 43,
   "id": "31fcca5e",
   "metadata": {},
   "outputs": [
    {
     "data": {
      "text/plain": [
       "dependent\n",
       "3.0    7772516\n",
       "0.0    7739681\n",
       "2.0    7733261\n",
       "1.0    7719106\n",
       "Name: count, dtype: int64"
      ]
     },
     "execution_count": 43,
     "metadata": {},
     "output_type": "execute_result"
    }
   ],
   "source": [
    "#checking for execution\n",
    "df_final[\"dependent\"].value_counts()"
   ]
  },
  {
   "cell_type": "code",
   "execution_count": 44,
   "id": "409bcca1",
   "metadata": {},
   "outputs": [
    {
     "name": "stderr",
     "output_type": "stream",
     "text": [
      "C:\\Users\\Sam\\AppData\\Local\\Temp\\ipykernel_3112\\411862005.py:2: SettingWithCopyWarning: \n",
      "A value is trying to be set on a copy of a slice from a DataFrame.\n",
      "Try using .loc[row_indexer,col_indexer] = value instead\n",
      "\n",
      "See the caveats in the documentation: https://pandas.pydata.org/pandas-docs/stable/user_guide/indexing.html#returning-a-view-versus-a-copy\n",
      "  df_final.loc[df_final[\"dependent\"]>0,\"dependent_flag\"]=\"with dependents\"\n"
     ]
    }
   ],
   "source": [
    "#creating the flag using loc\n",
    "df_final.loc[df_final[\"dependent\"]>0,\"dependent_flag\"]=\"with dependents\"\n",
    "df_final.loc[df_final[\"dependent\"]<=0,\"dependent_flag\"]=\"without dependents\""
   ]
  },
  {
   "cell_type": "code",
   "execution_count": 45,
   "id": "93fd8a51",
   "metadata": {},
   "outputs": [
    {
     "data": {
      "text/plain": [
       "dependent_flag\n",
       "with dependents       23224883\n",
       "without dependents     7739681\n",
       "Name: count, dtype: int64"
      ]
     },
     "execution_count": 45,
     "metadata": {},
     "output_type": "execute_result"
    }
   ],
   "source": [
    "#checking for execution\n",
    "df_final[\"dependent_flag\"].value_counts()"
   ]
  },
  {
   "cell_type": "markdown",
   "id": "ada6958d",
   "metadata": {},
   "source": [
    "#### Creating customer profile"
   ]
  },
  {
   "cell_type": "code",
   "execution_count": 46,
   "id": "c4cc6cb1",
   "metadata": {},
   "outputs": [
    {
     "name": "stderr",
     "output_type": "stream",
     "text": [
      "C:\\Users\\Sam\\AppData\\Local\\Temp\\ipykernel_3112\\3865594901.py:2: SettingWithCopyWarning: \n",
      "A value is trying to be set on a copy of a slice from a DataFrame.\n",
      "Try using .loc[row_indexer,col_indexer] = value instead\n",
      "\n",
      "See the caveats in the documentation: https://pandas.pydata.org/pandas-docs/stable/user_guide/indexing.html#returning-a-view-versus-a-copy\n",
      "  df_final[\"customer_profile\"]=df_final[\"marital_status\"]+\" \"+df_final[\"age_group\"]+\" \"+df_final[\"income_group\"]+\" \"+df_final[\"dependent_flag\"]\n"
     ]
    }
   ],
   "source": [
    "# customer profile based on age, income, w or wo dependents\n",
    "df_final[\"customer_profile\"]=df_final[\"marital_status\"]+\" \"+df_final[\"age_group\"]+\" \"+df_final[\"income_group\"]+\" \"+df_final[\"dependent_flag\"]"
   ]
  },
  {
   "cell_type": "code",
   "execution_count": 47,
   "id": "059def4e",
   "metadata": {},
   "outputs": [
    {
     "data": {
      "text/plain": [
       "0           married Working-age adult high income with dep...\n",
       "1           married Working-age adult high income with dep...\n",
       "2           married Working-age adult high income with dep...\n",
       "3           married Working-age adult high income with dep...\n",
       "4           married Working-age adult high income with dep...\n",
       "                                  ...                        \n",
       "32404813        married Elderly medium income with dependents\n",
       "32404814        married Elderly medium income with dependents\n",
       "32404815        married Elderly medium income with dependents\n",
       "32404816        married Elderly medium income with dependents\n",
       "32404817        married Elderly medium income with dependents\n",
       "Name: customer_profile, Length: 30964564, dtype: object"
      ]
     },
     "execution_count": 47,
     "metadata": {},
     "output_type": "execute_result"
    }
   ],
   "source": [
    "#checking for execution\n",
    "df_final[\"customer_profile\"]"
   ]
  },
  {
   "cell_type": "code",
   "execution_count": 48,
   "id": "13dae22b",
   "metadata": {},
   "outputs": [
    {
     "data": {
      "text/plain": [
       "customer_profile\n",
       "married Working-age adult medium income with dependents                             9186328\n",
       "married Working-age adult high income with dependents                               6269195\n",
       "married Elderly high income with dependents                                         4321703\n",
       "single Working-age adult medium income without dependents                           3109977\n",
       "married Elderly medium income with dependents                                       1844534\n",
       "single Working-age adult high income without dependents                             1713447\n",
       "divorced/widowed Elderly high income without dependents                             1420060\n",
       "living with parents and siblings Young medium income with dependents                 717221\n",
       "living with parents and siblings Working-age adult medium income with dependents     696406\n",
       "divorced/widowed Elderly medium income without dependents                            600950\n",
       "divorced/widowed Working-age adult high income without dependents                    426142\n",
       "single Young medium income without dependents                                        212061\n",
       "divorced/widowed Working-age adult medium income without dependents                  195815\n",
       "married Working-age adult low income with dependents                                 114602\n",
       "single Working-age adult low income without dependents                                46150\n",
       "living with parents and siblings Working-age adult high income with dependents        24887\n",
       "living with parents and siblings Young high income with dependents                    22661\n",
       "living with parents and siblings Working-age adult low income with dependents         10181\n",
       "living with parents and siblings Young low income with dependents                      9816\n",
       "single Young high income without dependents                                            9307\n",
       "married Elderly low income with dependents                                             7349\n",
       "single Young low income without dependents                                             3468\n",
       "divorced/widowed Working-age adult low income without dependents                       1356\n",
       "divorced/widowed Elderly low income without dependents                                  948\n",
       "Name: count, dtype: int64"
      ]
     },
     "execution_count": 48,
     "metadata": {},
     "output_type": "execute_result"
    }
   ],
   "source": [
    "#checking value count\n",
    "df_final[\"customer_profile\"].value_counts()"
   ]
  },
  {
   "cell_type": "markdown",
   "id": "1b97e862",
   "metadata": {},
   "source": [
    "#### Grouping customer profile with money spent on the platform"
   ]
  },
  {
   "cell_type": "code",
   "execution_count": 49,
   "id": "41bb9076",
   "metadata": {},
   "outputs": [
    {
     "data": {
      "text/plain": [
       "Index(['user_id', 'first_name', 'last_name', 'gender', 'state', 'age',\n",
       "       'date_joined', 'number_of_dependants', 'marital_status', 'income',\n",
       "       'product_id', 'product_name', 'department_id', 'prices', 'order_id',\n",
       "       'order_number', 'order_dow', 'order_hour_of_day',\n",
       "       'days_since_prior_order', 'add_to_cart_order', 'reordered',\n",
       "       'price_range_loc', 'busiest_day', 'busiest_days',\n",
       "       'busiest_period_of_day', 'max_order', 'loyalty_flag', 'average_price',\n",
       "       'spending_flag', 'median_days_between_orders', 'order_frequency',\n",
       "       'region', 'exclusion_flag', 'income_group', 'age_group', 'dependent',\n",
       "       'dependent_flag', 'customer_profile'],\n",
       "      dtype='object')"
      ]
     },
     "execution_count": 49,
     "metadata": {},
     "output_type": "execute_result"
    }
   ],
   "source": [
    "df_final.columns"
   ]
  },
  {
   "cell_type": "code",
   "execution_count": 50,
   "id": "c247206f",
   "metadata": {},
   "outputs": [],
   "source": [
    "# grouping profiles with prices\n",
    "profile_revenue_generated=df_final.groupby(\"customer_profile\")[\"prices\"].sum()"
   ]
  },
  {
   "cell_type": "code",
   "execution_count": 51,
   "id": "90b3f143",
   "metadata": {},
   "outputs": [
    {
     "data": {
      "text/plain": [
       "customer_profile\n",
       "divorced/widowed Elderly high income without dependents                             11291900.1\n",
       "divorced/widowed Elderly low income without dependents                                  5945.4\n",
       "divorced/widowed Elderly medium income without dependents                            4474672.3\n",
       "divorced/widowed Working-age adult high income without dependents                    3385124.9\n",
       "divorced/widowed Working-age adult low income without dependents                        9257.8\n",
       "divorced/widowed Working-age adult medium income without dependents                  1465463.0\n",
       "living with parents and siblings Working-age adult high income with dependents        198109.6\n",
       "living with parents and siblings Working-age adult low income with dependents          67227.6\n",
       "living with parents and siblings Working-age adult medium income with dependents     5423011.3\n",
       "living with parents and siblings Young high income with dependents                    177799.6\n",
       "living with parents and siblings Young low income with dependents                      62888.0\n",
       "living with parents and siblings Young medium income with dependents                 5623495.0\n",
       "married Elderly high income with dependents                                         34375130.0\n",
       "married Elderly low income with dependents                                             49068.9\n",
       "married Elderly medium income with dependents                                       13691649.5\n",
       "married Working-age adult high income with dependents                               49844364.9\n",
       "married Working-age adult low income with dependents                                  748392.8\n",
       "married Working-age adult medium income with dependents                             70653605.7\n",
       "single Working-age adult high income without dependents                             13612533.1\n",
       "single Working-age adult low income without dependents                                301218.8\n",
       "single Working-age adult medium income without dependents                           23990837.2\n",
       "single Young high income without dependents                                            76030.0\n",
       "single Young low income without dependents                                             22476.5\n",
       "single Young medium income without dependents                                        1644033.6\n",
       "Name: prices, dtype: float64"
      ]
     },
     "execution_count": 51,
     "metadata": {},
     "output_type": "execute_result"
    }
   ],
   "source": [
    "#checking for execution\n",
    "profile_revenue_generated"
   ]
  },
  {
   "cell_type": "code",
   "execution_count": 52,
   "id": "70aa579d",
   "metadata": {},
   "outputs": [],
   "source": [
    "# organizing in ascending order\n",
    "profile_revenue_generated_sort=profile_revenue_generated.sort_values()"
   ]
  },
  {
   "cell_type": "code",
   "execution_count": 53,
   "id": "2b32ba51",
   "metadata": {},
   "outputs": [
    {
     "data": {
      "text/plain": [
       "customer_profile\n",
       "divorced/widowed Elderly low income without dependents                                  5945.4\n",
       "divorced/widowed Working-age adult low income without dependents                        9257.8\n",
       "single Young low income without dependents                                             22476.5\n",
       "married Elderly low income with dependents                                             49068.9\n",
       "living with parents and siblings Young low income with dependents                      62888.0\n",
       "living with parents and siblings Working-age adult low income with dependents          67227.6\n",
       "single Young high income without dependents                                            76030.0\n",
       "living with parents and siblings Young high income with dependents                    177799.6\n",
       "living with parents and siblings Working-age adult high income with dependents        198109.6\n",
       "single Working-age adult low income without dependents                                301218.8\n",
       "married Working-age adult low income with dependents                                  748392.8\n",
       "divorced/widowed Working-age adult medium income without dependents                  1465463.0\n",
       "single Young medium income without dependents                                        1644033.6\n",
       "divorced/widowed Working-age adult high income without dependents                    3385124.9\n",
       "divorced/widowed Elderly medium income without dependents                            4474672.3\n",
       "living with parents and siblings Working-age adult medium income with dependents     5423011.3\n",
       "living with parents and siblings Young medium income with dependents                 5623495.0\n",
       "divorced/widowed Elderly high income without dependents                             11291900.1\n",
       "single Working-age adult high income without dependents                             13612533.1\n",
       "married Elderly medium income with dependents                                       13691649.5\n",
       "single Working-age adult medium income without dependents                           23990837.2\n",
       "married Elderly high income with dependents                                         34375130.0\n",
       "married Working-age adult high income with dependents                               49844364.9\n",
       "married Working-age adult medium income with dependents                             70653605.7\n",
       "Name: prices, dtype: float64"
      ]
     },
     "execution_count": 53,
     "metadata": {},
     "output_type": "execute_result"
    }
   ],
   "source": [
    "#checking for execution\n",
    "profile_revenue_generated_sort"
   ]
  },
  {
   "cell_type": "code",
   "execution_count": 54,
   "id": "378b1842",
   "metadata": {},
   "outputs": [
    {
     "data": {
      "image/png": "[encoded data removed]",
      "text/plain": [
       "<Figure size 1000x1000 with 1 Axes>"
      ]
     },
     "metadata": {},
     "output_type": "display_data"
    }
   ],
   "source": [
    "#creating a bar chart to viualize findings\n",
    "bar_profile_revenue = profile_revenue_generated_sort.plot.barh(title=\"Customer Profile and Revenue Generated\",xlabel=\"Revenue\",ylabel=\"Profile\",color=[\"cadetblue\"])\n",
    "fig = plt.gcf()\n",
    "fig.set_size_inches(10, 10)"
   ]
  },
  {
   "cell_type": "code",
   "execution_count": 55,
   "id": "875ae7cf",
   "metadata": {},
   "outputs": [],
   "source": [
    "# exporting the chart\n",
    "bar_profile_revenue.figure.savefig(os.path.join(path1,\"visualizations\",\"profiles_revenue_generated.png\"))"
   ]
  },
  {
   "cell_type": "markdown",
   "id": "c4015844",
   "metadata": {},
   "source": [
    "#### Grouping by profile and department sales"
   ]
  },
  {
   "cell_type": "code",
   "execution_count": 56,
   "id": "26e21f71",
   "metadata": {},
   "outputs": [
    {
     "data": {
      "text/plain": [
       "Index(['user_id', 'first_name', 'last_name', 'gender', 'state', 'age',\n",
       "       'date_joined', 'number_of_dependants', 'marital_status', 'income',\n",
       "       'product_id', 'product_name', 'department_id', 'prices', 'order_id',\n",
       "       'order_number', 'order_dow', 'order_hour_of_day',\n",
       "       'days_since_prior_order', 'add_to_cart_order', 'reordered',\n",
       "       'price_range_loc', 'busiest_day', 'busiest_days',\n",
       "       'busiest_period_of_day', 'max_order', 'loyalty_flag', 'average_price',\n",
       "       'spending_flag', 'median_days_between_orders', 'order_frequency',\n",
       "       'region', 'exclusion_flag', 'income_group', 'age_group', 'dependent',\n",
       "       'dependent_flag', 'customer_profile'],\n",
       "      dtype='object')"
      ]
     },
     "execution_count": 56,
     "metadata": {},
     "output_type": "execute_result"
    }
   ],
   "source": [
    "# finding department info in df_final\n",
    "df_final.columns"
   ]
  },
  {
   "cell_type": "code",
   "execution_count": 57,
   "id": "e22d44e2",
   "metadata": {},
   "outputs": [
    {
     "ename": "KeyError",
     "evalue": "\"['profile_revenue_generated'] not found in axis\"",
     "output_type": "error",
     "traceback": [
      "\u001b[1;31m---------------------------------------------------------------------------\u001b[0m",
      "\u001b[1;31mKeyError\u001b[0m                                  Traceback (most recent call last)",
      "Cell \u001b[1;32mIn[57], line 2\u001b[0m\n\u001b[0;32m      1\u001b[0m \u001b[38;5;66;03m# dropping profile_revenue_generated column\u001b[39;00m\n\u001b[1;32m----> 2\u001b[0m df_final\u001b[38;5;241m.\u001b[39mdrop(columns\u001b[38;5;241m=\u001b[39m[\u001b[38;5;124m\"\u001b[39m\u001b[38;5;124mprofile_revenue_generated\u001b[39m\u001b[38;5;124m\"\u001b[39m],inplace\u001b[38;5;241m=\u001b[39m\u001b[38;5;28;01mTrue\u001b[39;00m)\n",
      "File \u001b[1;32m~\\anaconda3\\Lib\\site-packages\\pandas\\core\\frame.py:5344\u001b[0m, in \u001b[0;36mDataFrame.drop\u001b[1;34m(self, labels, axis, index, columns, level, inplace, errors)\u001b[0m\n\u001b[0;32m   5196\u001b[0m \u001b[38;5;28;01mdef\u001b[39;00m \u001b[38;5;21mdrop\u001b[39m(\n\u001b[0;32m   5197\u001b[0m     \u001b[38;5;28mself\u001b[39m,\n\u001b[0;32m   5198\u001b[0m     labels: IndexLabel \u001b[38;5;241m|\u001b[39m \u001b[38;5;28;01mNone\u001b[39;00m \u001b[38;5;241m=\u001b[39m \u001b[38;5;28;01mNone\u001b[39;00m,\n\u001b[1;32m   (...)\u001b[0m\n\u001b[0;32m   5205\u001b[0m     errors: IgnoreRaise \u001b[38;5;241m=\u001b[39m \u001b[38;5;124m\"\u001b[39m\u001b[38;5;124mraise\u001b[39m\u001b[38;5;124m\"\u001b[39m,\n\u001b[0;32m   5206\u001b[0m ) \u001b[38;5;241m-\u001b[39m\u001b[38;5;241m>\u001b[39m DataFrame \u001b[38;5;241m|\u001b[39m \u001b[38;5;28;01mNone\u001b[39;00m:\n\u001b[0;32m   5207\u001b[0m \u001b[38;5;250m    \u001b[39m\u001b[38;5;124;03m\"\"\"\u001b[39;00m\n\u001b[0;32m   5208\u001b[0m \u001b[38;5;124;03m    Drop specified labels from rows or columns.\u001b[39;00m\n\u001b[0;32m   5209\u001b[0m \n\u001b[1;32m   (...)\u001b[0m\n\u001b[0;32m   5342\u001b[0m \u001b[38;5;124;03m            weight  1.0     0.8\u001b[39;00m\n\u001b[0;32m   5343\u001b[0m \u001b[38;5;124;03m    \"\"\"\u001b[39;00m\n\u001b[1;32m-> 5344\u001b[0m     \u001b[38;5;28;01mreturn\u001b[39;00m \u001b[38;5;28msuper\u001b[39m()\u001b[38;5;241m.\u001b[39mdrop(\n\u001b[0;32m   5345\u001b[0m         labels\u001b[38;5;241m=\u001b[39mlabels,\n\u001b[0;32m   5346\u001b[0m         axis\u001b[38;5;241m=\u001b[39maxis,\n\u001b[0;32m   5347\u001b[0m         index\u001b[38;5;241m=\u001b[39mindex,\n\u001b[0;32m   5348\u001b[0m         columns\u001b[38;5;241m=\u001b[39mcolumns,\n\u001b[0;32m   5349\u001b[0m         level\u001b[38;5;241m=\u001b[39mlevel,\n\u001b[0;32m   5350\u001b[0m         inplace\u001b[38;5;241m=\u001b[39minplace,\n\u001b[0;32m   5351\u001b[0m         errors\u001b[38;5;241m=\u001b[39merrors,\n\u001b[0;32m   5352\u001b[0m     )\n",
      "File \u001b[1;32m~\\anaconda3\\Lib\\site-packages\\pandas\\core\\generic.py:4711\u001b[0m, in \u001b[0;36mNDFrame.drop\u001b[1;34m(self, labels, axis, index, columns, level, inplace, errors)\u001b[0m\n\u001b[0;32m   4709\u001b[0m \u001b[38;5;28;01mfor\u001b[39;00m axis, labels \u001b[38;5;129;01min\u001b[39;00m axes\u001b[38;5;241m.\u001b[39mitems():\n\u001b[0;32m   4710\u001b[0m     \u001b[38;5;28;01mif\u001b[39;00m labels \u001b[38;5;129;01mis\u001b[39;00m \u001b[38;5;129;01mnot\u001b[39;00m \u001b[38;5;28;01mNone\u001b[39;00m:\n\u001b[1;32m-> 4711\u001b[0m         obj \u001b[38;5;241m=\u001b[39m obj\u001b[38;5;241m.\u001b[39m_drop_axis(labels, axis, level\u001b[38;5;241m=\u001b[39mlevel, errors\u001b[38;5;241m=\u001b[39merrors)\n\u001b[0;32m   4713\u001b[0m \u001b[38;5;28;01mif\u001b[39;00m inplace:\n\u001b[0;32m   4714\u001b[0m     \u001b[38;5;28mself\u001b[39m\u001b[38;5;241m.\u001b[39m_update_inplace(obj)\n",
      "File \u001b[1;32m~\\anaconda3\\Lib\\site-packages\\pandas\\core\\generic.py:4753\u001b[0m, in \u001b[0;36mNDFrame._drop_axis\u001b[1;34m(self, labels, axis, level, errors, only_slice)\u001b[0m\n\u001b[0;32m   4751\u001b[0m         new_axis \u001b[38;5;241m=\u001b[39m axis\u001b[38;5;241m.\u001b[39mdrop(labels, level\u001b[38;5;241m=\u001b[39mlevel, errors\u001b[38;5;241m=\u001b[39merrors)\n\u001b[0;32m   4752\u001b[0m     \u001b[38;5;28;01melse\u001b[39;00m:\n\u001b[1;32m-> 4753\u001b[0m         new_axis \u001b[38;5;241m=\u001b[39m axis\u001b[38;5;241m.\u001b[39mdrop(labels, errors\u001b[38;5;241m=\u001b[39merrors)\n\u001b[0;32m   4754\u001b[0m     indexer \u001b[38;5;241m=\u001b[39m axis\u001b[38;5;241m.\u001b[39mget_indexer(new_axis)\n\u001b[0;32m   4756\u001b[0m \u001b[38;5;66;03m# Case for non-unique axis\u001b[39;00m\n\u001b[0;32m   4757\u001b[0m \u001b[38;5;28;01melse\u001b[39;00m:\n",
      "File \u001b[1;32m~\\anaconda3\\Lib\\site-packages\\pandas\\core\\indexes\\base.py:7000\u001b[0m, in \u001b[0;36mIndex.drop\u001b[1;34m(self, labels, errors)\u001b[0m\n\u001b[0;32m   6998\u001b[0m \u001b[38;5;28;01mif\u001b[39;00m mask\u001b[38;5;241m.\u001b[39many():\n\u001b[0;32m   6999\u001b[0m     \u001b[38;5;28;01mif\u001b[39;00m errors \u001b[38;5;241m!=\u001b[39m \u001b[38;5;124m\"\u001b[39m\u001b[38;5;124mignore\u001b[39m\u001b[38;5;124m\"\u001b[39m:\n\u001b[1;32m-> 7000\u001b[0m         \u001b[38;5;28;01mraise\u001b[39;00m \u001b[38;5;167;01mKeyError\u001b[39;00m(\u001b[38;5;124mf\u001b[39m\u001b[38;5;124m\"\u001b[39m\u001b[38;5;132;01m{\u001b[39;00mlabels[mask]\u001b[38;5;241m.\u001b[39mtolist()\u001b[38;5;132;01m}\u001b[39;00m\u001b[38;5;124m not found in axis\u001b[39m\u001b[38;5;124m\"\u001b[39m)\n\u001b[0;32m   7001\u001b[0m     indexer \u001b[38;5;241m=\u001b[39m indexer[\u001b[38;5;241m~\u001b[39mmask]\n\u001b[0;32m   7002\u001b[0m \u001b[38;5;28;01mreturn\u001b[39;00m \u001b[38;5;28mself\u001b[39m\u001b[38;5;241m.\u001b[39mdelete(indexer)\n",
      "\u001b[1;31mKeyError\u001b[0m: \"['profile_revenue_generated'] not found in axis\""
     ]
    }
   ],
   "source": [
    "# dropping profile_revenue_generated column\n",
    "df_final.drop(columns=[\"profile_revenue_generated\"],inplace=True)"
   ]
  },
  {
   "cell_type": "code",
   "execution_count": 58,
   "id": "4ea7a2f8",
   "metadata": {},
   "outputs": [
    {
     "data": {
      "text/plain": [
       "Index(['user_id', 'first_name', 'last_name', 'gender', 'state', 'age',\n",
       "       'date_joined', 'number_of_dependants', 'marital_status', 'income',\n",
       "       'product_id', 'product_name', 'department_id', 'prices', 'order_id',\n",
       "       'order_number', 'order_dow', 'order_hour_of_day',\n",
       "       'days_since_prior_order', 'add_to_cart_order', 'reordered',\n",
       "       'price_range_loc', 'busiest_day', 'busiest_days',\n",
       "       'busiest_period_of_day', 'max_order', 'loyalty_flag', 'average_price',\n",
       "       'spending_flag', 'median_days_between_orders', 'order_frequency',\n",
       "       'region', 'exclusion_flag', 'income_group', 'age_group', 'dependent',\n",
       "       'dependent_flag', 'customer_profile'],\n",
       "      dtype='object')"
      ]
     },
     "execution_count": 58,
     "metadata": {},
     "output_type": "execute_result"
    }
   ],
   "source": [
    "#checking for execution\n",
    "df_final.columns"
   ]
  },
  {
   "cell_type": "code",
   "execution_count": 59,
   "id": "93de942a",
   "metadata": {},
   "outputs": [],
   "source": [
    "# creating a dictionary on department ids and names\n",
    "department={1:\"frozen\",2:\"other\",3:\"bakery\",4:\"produce\",5:\"alcohol\",6:\"international\",7:\"beverages\",8:\"pets\",9:\"dry goods pasta\",10:\"bulk\",11: \"personal care\",12: \"meat seafood\",13: \"pantry\",14: \"breakfast\",15: \"canned goods\",16:\"dairy eggs\",17:\"household\",18:\"babies\",19:\"snacks\",20:\"deli\"}"
   ]
  },
  {
   "cell_type": "code",
   "execution_count": 60,
   "id": "b9e6e982",
   "metadata": {},
   "outputs": [
    {
     "name": "stderr",
     "output_type": "stream",
     "text": [
      "C:\\Users\\Sam\\AppData\\Local\\Temp\\ipykernel_3112\\3589801990.py:2: SettingWithCopyWarning: \n",
      "A value is trying to be set on a copy of a slice from a DataFrame.\n",
      "Try using .loc[row_indexer,col_indexer] = value instead\n",
      "\n",
      "See the caveats in the documentation: https://pandas.pydata.org/pandas-docs/stable/user_guide/indexing.html#returning-a-view-versus-a-copy\n",
      "  df_final[\"department\"]=df_final[\"department_id\"].map(department)\n"
     ]
    }
   ],
   "source": [
    "#creating a department column in the dataframe with mapping\n",
    "df_final[\"department\"]=df_final[\"department_id\"].map(department)"
   ]
  },
  {
   "cell_type": "code",
   "execution_count": 61,
   "id": "dd77ff9f",
   "metadata": {},
   "outputs": [
    {
     "data": {
      "text/plain": [
       "0               beverages\n",
       "1               beverages\n",
       "2               beverages\n",
       "3                 produce\n",
       "4                 produce\n",
       "                ...      \n",
       "32404813    personal care\n",
       "32404814    personal care\n",
       "32404815    personal care\n",
       "32404816           pantry\n",
       "32404817           snacks\n",
       "Name: department, Length: 30964564, dtype: object"
      ]
     },
     "execution_count": 61,
     "metadata": {},
     "output_type": "execute_result"
    }
   ],
   "source": [
    "#checking for execution\n",
    "df_final[\"department\"]"
   ]
  },
  {
   "cell_type": "code",
   "execution_count": 62,
   "id": "84a433ba",
   "metadata": {},
   "outputs": [
    {
     "data": {
      "text/plain": [
       "department\n",
       "produce            9079273\n",
       "dairy eggs         5177182\n",
       "snacks             2766406\n",
       "beverages          2571901\n",
       "frozen             2121731\n",
       "pantry             1782705\n",
       "bakery             1120828\n",
       "canned goods       1012074\n",
       "deli               1003834\n",
       "dry goods pasta     822136\n",
       "household           699857\n",
       "meat seafood        674781\n",
       "breakfast           670850\n",
       "personal care       424306\n",
       "babies              410392\n",
       "international       255991\n",
       "alcohol             144627\n",
       "pets                 93060\n",
       "other                34411\n",
       "bulk                 33451\n",
       "Name: count, dtype: int64"
      ]
     },
     "execution_count": 62,
     "metadata": {},
     "output_type": "execute_result"
    }
   ],
   "source": [
    "#checking value count\n",
    "df_final[\"department\"].value_counts()"
   ]
  },
  {
   "cell_type": "code",
   "execution_count": 63,
   "id": "fb966db9",
   "metadata": {},
   "outputs": [],
   "source": [
    "#grouping department with loyalty\n",
    "loyalty_department_grouped=df_final.groupby([\"department\",\"loyalty_flag\"])"
   ]
  },
  {
   "cell_type": "code",
   "execution_count": 64,
   "id": "c4f540f6",
   "metadata": {},
   "outputs": [],
   "source": [
    "df_final.to_pickle(os.path.join(path,\"df_final.pkl\"))"
   ]
  },
  {
   "cell_type": "code",
   "execution_count": null,
   "id": "70418487",
   "metadata": {},
   "outputs": [],
   "source": []
  }
 ],
 "metadata": {
  "kernelspec": {
   "display_name": "Python 3 (ipykernel)",
   "language": "python",
   "name": "python3"
  },
  "language_info": {
   "codemirror_mode": {
    "name": "ipython",
    "version": 3
   },
   "file_extension": ".py",
   "mimetype": "text/x-python",
   "name": "python",
   "nbconvert_exporter": "python",
   "pygments_lexer": "ipython3",
   "version": "3.11.5"
  }
 },
 "nbformat": 4,
 "nbformat_minor": 5
}
