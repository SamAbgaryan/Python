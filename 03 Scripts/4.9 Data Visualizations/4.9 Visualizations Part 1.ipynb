{
 "cells": [
  {
   "cell_type": "markdown",
   "id": "299a63bd",
   "metadata": {},
   "source": [
    "# importing libraries and data"
   ]
  },
  {
   "cell_type": "code",
   "execution_count": 2,
   "id": "f03c9ea8",
   "metadata": {},
   "outputs": [],
   "source": [
    "import pandas as pd\n",
    "import numpy as np\n",
    "import os\n",
    "import scipy\n",
    "import seaborn as sns\n",
    "import matplotlib.pyplot as plt"
   ]
  },
  {
   "cell_type": "code",
   "execution_count": 2,
   "id": "9bcb2d00",
   "metadata": {},
   "outputs": [],
   "source": [
    "path=r\"C:\\Users\\Sam\\Desktop\\CF\\Project 4 Instacart Basket\\Instacart Basket Analysis\\02 Data\\Original Data\""
   ]
  },
  {
   "cell_type": "code",
   "execution_count": 3,
   "id": "03b48f92",
   "metadata": {},
   "outputs": [],
   "source": [
    "df=pd.read_csv(os.path.join(path,\"customers.csv\"))"
   ]
  },
  {
   "cell_type": "code",
   "execution_count": 4,
   "id": "54e20320",
   "metadata": {},
   "outputs": [
    {
     "data": {
      "text/html": [
       "<div>\n",
       "<style scoped>\n",
       "    .dataframe tbody tr th:only-of-type {\n",
       "        vertical-align: middle;\n",
       "    }\n",
       "\n",
       "    .dataframe tbody tr th {\n",
       "        vertical-align: top;\n",
       "    }\n",
       "\n",
       "    .dataframe thead th {\n",
       "        text-align: right;\n",
       "    }\n",
       "</style>\n",
       "<table border=\"1\" class=\"dataframe\">\n",
       "  <thead>\n",
       "    <tr style=\"text-align: right;\">\n",
       "      <th></th>\n",
       "      <th>user_id</th>\n",
       "      <th>First Name</th>\n",
       "      <th>Surnam</th>\n",
       "      <th>Gender</th>\n",
       "      <th>STATE</th>\n",
       "      <th>Age</th>\n",
       "      <th>date_joined</th>\n",
       "      <th>n_dependants</th>\n",
       "      <th>fam_status</th>\n",
       "      <th>income</th>\n",
       "    </tr>\n",
       "  </thead>\n",
       "  <tbody>\n",
       "    <tr>\n",
       "      <th>0</th>\n",
       "      <td>26711</td>\n",
       "      <td>Deborah</td>\n",
       "      <td>Esquivel</td>\n",
       "      <td>Female</td>\n",
       "      <td>Missouri</td>\n",
       "      <td>48</td>\n",
       "      <td>1/1/2017</td>\n",
       "      <td>3</td>\n",
       "      <td>married</td>\n",
       "      <td>165665</td>\n",
       "    </tr>\n",
       "    <tr>\n",
       "      <th>1</th>\n",
       "      <td>33890</td>\n",
       "      <td>Patricia</td>\n",
       "      <td>Hart</td>\n",
       "      <td>Female</td>\n",
       "      <td>New Mexico</td>\n",
       "      <td>36</td>\n",
       "      <td>1/1/2017</td>\n",
       "      <td>0</td>\n",
       "      <td>single</td>\n",
       "      <td>59285</td>\n",
       "    </tr>\n",
       "    <tr>\n",
       "      <th>2</th>\n",
       "      <td>65803</td>\n",
       "      <td>Kenneth</td>\n",
       "      <td>Farley</td>\n",
       "      <td>Male</td>\n",
       "      <td>Idaho</td>\n",
       "      <td>35</td>\n",
       "      <td>1/1/2017</td>\n",
       "      <td>2</td>\n",
       "      <td>married</td>\n",
       "      <td>99568</td>\n",
       "    </tr>\n",
       "  </tbody>\n",
       "</table>\n",
       "</div>"
      ],
      "text/plain": [
       "   user_id First Name    Surnam  Gender       STATE  Age date_joined  \\\n",
       "0    26711    Deborah  Esquivel  Female    Missouri   48    1/1/2017   \n",
       "1    33890   Patricia      Hart  Female  New Mexico   36    1/1/2017   \n",
       "2    65803    Kenneth    Farley    Male       Idaho   35    1/1/2017   \n",
       "\n",
       "   n_dependants fam_status  income  \n",
       "0             3    married  165665  \n",
       "1             0     single   59285  \n",
       "2             2    married   99568  "
      ]
     },
     "execution_count": 4,
     "metadata": {},
     "output_type": "execute_result"
    }
   ],
   "source": [
    "# checking columns\n",
    "df.head(3)"
   ]
  },
  {
   "cell_type": "code",
   "execution_count": 5,
   "id": "9fca6ebf",
   "metadata": {},
   "outputs": [],
   "source": [
    "# changing First Name, Surnam, Gender, STATE, Age, n_dependants, fam_status\n",
    "df.rename(columns={\"First Name\":\"first_name\"},inplace=True)\n",
    "df.rename(columns={\"Surnam\":\"last_name\"},inplace=True)\n",
    "df.rename(columns={\"Gender\":\"gender\"},inplace=True)\n",
    "df.rename(columns={\"STATE\":\"state\"},inplace=True)\n",
    "df.rename(columns={\"Age\":\"age\"},inplace=True)\n",
    "df.rename(columns={\"n_dependants\":\"number_of_dependants\"},inplace=True)\n",
    "df.rename(columns={\"fam_status\":\"marital_status\"},inplace=True)"
   ]
  },
  {
   "cell_type": "code",
   "execution_count": 6,
   "id": "460c9120",
   "metadata": {},
   "outputs": [
    {
     "data": {
      "text/html": [
       "<div>\n",
       "<style scoped>\n",
       "    .dataframe tbody tr th:only-of-type {\n",
       "        vertical-align: middle;\n",
       "    }\n",
       "\n",
       "    .dataframe tbody tr th {\n",
       "        vertical-align: top;\n",
       "    }\n",
       "\n",
       "    .dataframe thead th {\n",
       "        text-align: right;\n",
       "    }\n",
       "</style>\n",
       "<table border=\"1\" class=\"dataframe\">\n",
       "  <thead>\n",
       "    <tr style=\"text-align: right;\">\n",
       "      <th></th>\n",
       "      <th>user_id</th>\n",
       "      <th>first_name</th>\n",
       "      <th>last_name</th>\n",
       "      <th>gender</th>\n",
       "      <th>state</th>\n",
       "      <th>age</th>\n",
       "      <th>date_joined</th>\n",
       "      <th>number_of_dependants</th>\n",
       "      <th>marital_status</th>\n",
       "      <th>income</th>\n",
       "    </tr>\n",
       "  </thead>\n",
       "  <tbody>\n",
       "    <tr>\n",
       "      <th>0</th>\n",
       "      <td>26711</td>\n",
       "      <td>Deborah</td>\n",
       "      <td>Esquivel</td>\n",
       "      <td>Female</td>\n",
       "      <td>Missouri</td>\n",
       "      <td>48</td>\n",
       "      <td>1/1/2017</td>\n",
       "      <td>3</td>\n",
       "      <td>married</td>\n",
       "      <td>165665</td>\n",
       "    </tr>\n",
       "  </tbody>\n",
       "</table>\n",
       "</div>"
      ],
      "text/plain": [
       "   user_id first_name last_name  gender     state  age date_joined  \\\n",
       "0    26711    Deborah  Esquivel  Female  Missouri   48    1/1/2017   \n",
       "\n",
       "   number_of_dependants marital_status  income  \n",
       "0                     3        married  165665  "
      ]
     },
     "execution_count": 6,
     "metadata": {},
     "output_type": "execute_result"
    }
   ],
   "source": [
    "#checking for execution\n",
    "df.head(1)"
   ]
  },
  {
   "cell_type": "code",
   "execution_count": 7,
   "id": "3b9d7e44",
   "metadata": {},
   "outputs": [
    {
     "data": {
      "text/plain": [
       "user_id                  int64\n",
       "first_name              object\n",
       "last_name               object\n",
       "gender                  object\n",
       "state                   object\n",
       "age                      int64\n",
       "date_joined             object\n",
       "number_of_dependants     int64\n",
       "marital_status          object\n",
       "income                   int64\n",
       "dtype: object"
      ]
     },
     "execution_count": 7,
     "metadata": {},
     "output_type": "execute_result"
    }
   ],
   "source": [
    "# getting datatypes\n",
    "df.dtypes"
   ]
  },
  {
   "cell_type": "code",
   "execution_count": 8,
   "id": "a09bb1e4",
   "metadata": {},
   "outputs": [
    {
     "data": {
      "text/plain": [
       "(206209, 10)"
      ]
     },
     "execution_count": 8,
     "metadata": {},
     "output_type": "execute_result"
    }
   ],
   "source": [
    "# checking the shape\n",
    "df.shape"
   ]
  },
  {
   "cell_type": "code",
   "execution_count": 9,
   "id": "132cd416",
   "metadata": {},
   "outputs": [
    {
     "data": {
      "text/html": [
       "<div>\n",
       "<style scoped>\n",
       "    .dataframe tbody tr th:only-of-type {\n",
       "        vertical-align: middle;\n",
       "    }\n",
       "\n",
       "    .dataframe tbody tr th {\n",
       "        vertical-align: top;\n",
       "    }\n",
       "\n",
       "    .dataframe thead th {\n",
       "        text-align: right;\n",
       "    }\n",
       "</style>\n",
       "<table border=\"1\" class=\"dataframe\">\n",
       "  <thead>\n",
       "    <tr style=\"text-align: right;\">\n",
       "      <th></th>\n",
       "      <th>user_id</th>\n",
       "      <th>age</th>\n",
       "      <th>number_of_dependants</th>\n",
       "      <th>income</th>\n",
       "    </tr>\n",
       "  </thead>\n",
       "  <tbody>\n",
       "    <tr>\n",
       "      <th>count</th>\n",
       "      <td>206209.000000</td>\n",
       "      <td>206209.000000</td>\n",
       "      <td>206209.000000</td>\n",
       "      <td>206209.000000</td>\n",
       "    </tr>\n",
       "    <tr>\n",
       "      <th>mean</th>\n",
       "      <td>103105.000000</td>\n",
       "      <td>49.501646</td>\n",
       "      <td>1.499823</td>\n",
       "      <td>94632.852548</td>\n",
       "    </tr>\n",
       "    <tr>\n",
       "      <th>std</th>\n",
       "      <td>59527.555167</td>\n",
       "      <td>18.480962</td>\n",
       "      <td>1.118433</td>\n",
       "      <td>42473.786988</td>\n",
       "    </tr>\n",
       "    <tr>\n",
       "      <th>min</th>\n",
       "      <td>1.000000</td>\n",
       "      <td>18.000000</td>\n",
       "      <td>0.000000</td>\n",
       "      <td>25903.000000</td>\n",
       "    </tr>\n",
       "    <tr>\n",
       "      <th>25%</th>\n",
       "      <td>51553.000000</td>\n",
       "      <td>33.000000</td>\n",
       "      <td>0.000000</td>\n",
       "      <td>59874.000000</td>\n",
       "    </tr>\n",
       "    <tr>\n",
       "      <th>50%</th>\n",
       "      <td>103105.000000</td>\n",
       "      <td>49.000000</td>\n",
       "      <td>1.000000</td>\n",
       "      <td>93547.000000</td>\n",
       "    </tr>\n",
       "    <tr>\n",
       "      <th>75%</th>\n",
       "      <td>154657.000000</td>\n",
       "      <td>66.000000</td>\n",
       "      <td>3.000000</td>\n",
       "      <td>124244.000000</td>\n",
       "    </tr>\n",
       "    <tr>\n",
       "      <th>max</th>\n",
       "      <td>206209.000000</td>\n",
       "      <td>81.000000</td>\n",
       "      <td>3.000000</td>\n",
       "      <td>593901.000000</td>\n",
       "    </tr>\n",
       "  </tbody>\n",
       "</table>\n",
       "</div>"
      ],
      "text/plain": [
       "             user_id            age  number_of_dependants         income\n",
       "count  206209.000000  206209.000000         206209.000000  206209.000000\n",
       "mean   103105.000000      49.501646              1.499823   94632.852548\n",
       "std     59527.555167      18.480962              1.118433   42473.786988\n",
       "min         1.000000      18.000000              0.000000   25903.000000\n",
       "25%     51553.000000      33.000000              0.000000   59874.000000\n",
       "50%    103105.000000      49.000000              1.000000   93547.000000\n",
       "75%    154657.000000      66.000000              3.000000  124244.000000\n",
       "max    206209.000000      81.000000              3.000000  593901.000000"
      ]
     },
     "execution_count": 9,
     "metadata": {},
     "output_type": "execute_result"
    }
   ],
   "source": [
    "# descriptive stats\n",
    "df.describe()"
   ]
  },
  {
   "cell_type": "code",
   "execution_count": 10,
   "id": "921438ae",
   "metadata": {},
   "outputs": [
    {
     "data": {
      "text/plain": [
       "True"
      ]
     },
     "execution_count": 10,
     "metadata": {},
     "output_type": "execute_result"
    }
   ],
   "source": [
    "# checking if there are any missing values at all\n",
    "df.isnull().values.any()"
   ]
  },
  {
   "cell_type": "code",
   "execution_count": 11,
   "id": "529f0c49",
   "metadata": {},
   "outputs": [
    {
     "data": {
      "text/plain": [
       "11259"
      ]
     },
     "execution_count": 11,
     "metadata": {},
     "output_type": "execute_result"
    }
   ],
   "source": [
    "# since there are missing values, how many in total\n",
    "df.isnull().sum().sum()"
   ]
  },
  {
   "cell_type": "code",
   "execution_count": 12,
   "id": "812129f2",
   "metadata": {},
   "outputs": [
    {
     "data": {
      "text/plain": [
       "user_id                     0\n",
       "first_name              11259\n",
       "last_name                   0\n",
       "gender                      0\n",
       "state                       0\n",
       "age                         0\n",
       "date_joined                 0\n",
       "number_of_dependants        0\n",
       "marital_status              0\n",
       "income                      0\n",
       "dtype: int64"
      ]
     },
     "execution_count": 12,
     "metadata": {},
     "output_type": "execute_result"
    }
   ],
   "source": [
    "# checking missing values by variable\n",
    "df.isnull().sum()"
   ]
  },
  {
   "cell_type": "code",
   "execution_count": 13,
   "id": "c4e2b960",
   "metadata": {},
   "outputs": [],
   "source": [
    "# checking for duplicates\n",
    "df_dups=df[df.duplicated()]"
   ]
  },
  {
   "cell_type": "code",
   "execution_count": 14,
   "id": "b4790320",
   "metadata": {},
   "outputs": [
    {
     "data": {
      "text/html": [
       "<div>\n",
       "<style scoped>\n",
       "    .dataframe tbody tr th:only-of-type {\n",
       "        vertical-align: middle;\n",
       "    }\n",
       "\n",
       "    .dataframe tbody tr th {\n",
       "        vertical-align: top;\n",
       "    }\n",
       "\n",
       "    .dataframe thead th {\n",
       "        text-align: right;\n",
       "    }\n",
       "</style>\n",
       "<table border=\"1\" class=\"dataframe\">\n",
       "  <thead>\n",
       "    <tr style=\"text-align: right;\">\n",
       "      <th></th>\n",
       "      <th>user_id</th>\n",
       "      <th>first_name</th>\n",
       "      <th>last_name</th>\n",
       "      <th>gender</th>\n",
       "      <th>state</th>\n",
       "      <th>age</th>\n",
       "      <th>date_joined</th>\n",
       "      <th>number_of_dependants</th>\n",
       "      <th>marital_status</th>\n",
       "      <th>income</th>\n",
       "    </tr>\n",
       "  </thead>\n",
       "  <tbody>\n",
       "  </tbody>\n",
       "</table>\n",
       "</div>"
      ],
      "text/plain": [
       "Empty DataFrame\n",
       "Columns: [user_id, first_name, last_name, gender, state, age, date_joined, number_of_dependants, marital_status, income]\n",
       "Index: []"
      ]
     },
     "execution_count": 14,
     "metadata": {},
     "output_type": "execute_result"
    }
   ],
   "source": [
    "df_dups.head()"
   ]
  },
  {
   "cell_type": "code",
   "execution_count": 15,
   "id": "8ce09599",
   "metadata": {},
   "outputs": [
    {
     "data": {
      "text/plain": [
       "(0, 10)"
      ]
     },
     "execution_count": 15,
     "metadata": {},
     "output_type": "execute_result"
    }
   ],
   "source": [
    "df_dups.shape"
   ]
  },
  {
   "cell_type": "code",
   "execution_count": 16,
   "id": "a28b9205",
   "metadata": {},
   "outputs": [
    {
     "name": "stdout",
     "output_type": "stream",
     "text": [
      "first_name\n",
      "No mixed values\n"
     ]
    }
   ],
   "source": [
    "# checling for mixed values\n",
    "for col in df.columns.tolist():\n",
    "  weird = (df[[col]].map(type) != df[[col]].iloc[0].apply(type)).any(axis = 1)\n",
    "  if len (df[weird]) > 0:\n",
    "    print (col)\n",
    "else:\n",
    "    print(\"No mixed values\")\n",
    "    "
   ]
  },
  {
   "cell_type": "code",
   "execution_count": 17,
   "id": "0aefff60",
   "metadata": {},
   "outputs": [
    {
     "data": {
      "text/plain": [
       "dtype('O')"
      ]
     },
     "execution_count": 17,
     "metadata": {},
     "output_type": "execute_result"
    }
   ],
   "source": [
    "df[\"first_name\"].dtype"
   ]
  },
  {
   "cell_type": "markdown",
   "id": "609cf3e2",
   "metadata": {},
   "source": [
    "# Consistency check observations"
   ]
  },
  {
   "cell_type": "markdown",
   "id": "2164371b",
   "metadata": {},
   "source": [
    "## 1) I have decided to rename all variables to be consistent. I dont think it is a good idea to drop any of the variables, I might need the information in all of them. 2) All datatypes seem to be what they are supposed to be at least for now, if changes need to be made when merging will handle that then. 3) I found nothing abnormal in the descriptive stats. 4) There are missing values in the frame, all of them (11259) are in the \"first_name\" variable. To handle the missing values in this case, I think it would be best to replace the missing values with \"noname\" since it is the first name of the customer and we dont want to delete information that can be useful. 5) The dataframe has no duplicate values. 5) Checking for mixed data types showed that the coulmn \"first_name\" has mixed types, so I will change the datatype for the variable to a string."
   ]
  },
  {
   "cell_type": "code",
   "execution_count": 18,
   "id": "45834cdf",
   "metadata": {},
   "outputs": [],
   "source": [
    "# replacing missing values in \"first_name\"\n",
    "df[\"first_name\"].fillna(\"Noname\",inplace=True)"
   ]
  },
  {
   "cell_type": "code",
   "execution_count": 19,
   "id": "0d55a26b",
   "metadata": {},
   "outputs": [
    {
     "data": {
      "text/plain": [
       "False"
      ]
     },
     "execution_count": 19,
     "metadata": {},
     "output_type": "execute_result"
    }
   ],
   "source": [
    "# checking for execution\n",
    "df.isnull().values.any()"
   ]
  },
  {
   "cell_type": "code",
   "execution_count": 20,
   "id": "ce5d2e57",
   "metadata": {},
   "outputs": [],
   "source": [
    "# changing the datatype for \"first_name\"\n",
    "df[\"first_name\"]=df[\"first_name\"].astype(\"str\")"
   ]
  },
  {
   "cell_type": "code",
   "execution_count": 21,
   "id": "36f156e9",
   "metadata": {},
   "outputs": [
    {
     "name": "stdout",
     "output_type": "stream",
     "text": [
      "No mixed values\n"
     ]
    }
   ],
   "source": [
    "# checking for execution\n",
    "for col in df.columns.tolist():\n",
    "  weird = (df[[col]].map(type) != df[[col]].iloc[0].apply(type)).any(axis = 1)\n",
    "  if len (df[weird]) > 0:\n",
    "    print (col)\n",
    "else:\n",
    "    print(\"No mixed values\")"
   ]
  },
  {
   "cell_type": "code",
   "execution_count": 22,
   "id": "ad9a0335",
   "metadata": {},
   "outputs": [
    {
     "data": {
      "text/plain": [
       "user_id                  int64\n",
       "first_name              object\n",
       "last_name               object\n",
       "gender                  object\n",
       "state                   object\n",
       "age                      int64\n",
       "date_joined             object\n",
       "number_of_dependants     int64\n",
       "marital_status          object\n",
       "income                   int64\n",
       "dtype: object"
      ]
     },
     "execution_count": 22,
     "metadata": {},
     "output_type": "execute_result"
    }
   ],
   "source": [
    "# checking to see if string and object are different\n",
    "df.dtypes"
   ]
  },
  {
   "cell_type": "markdown",
   "id": "fa915c5f",
   "metadata": {},
   "source": [
    "### Quality and Consitency checks done"
   ]
  },
  {
   "cell_type": "markdown",
   "id": "be08c826",
   "metadata": {},
   "source": [
    "# Merging customer frame with the rest of cleaned instacart data"
   ]
  },
  {
   "cell_type": "code",
   "execution_count": 3,
   "id": "06fbcaaf",
   "metadata": {},
   "outputs": [],
   "source": [
    "# importing cleaned data\n",
    "path1=r\"C:\\Users\\Sam\\Desktop\\CF\\Project 4 Instacart Basket\\Instacart Basket Analysis\\02 Data\\Prepared Data\"\n",
    "df_inst=pd.read_pickle(os.path.join(path1,\"ords_prods_merge_revised_grouped.pkl\"))"
   ]
  },
  {
   "cell_type": "code",
   "execution_count": 4,
   "id": "4a5c1e98",
   "metadata": {},
   "outputs": [],
   "source": [
    "#df_inst.head()"
   ]
  },
  {
   "cell_type": "code",
   "execution_count": 5,
   "id": "495589ed",
   "metadata": {},
   "outputs": [],
   "source": [
    "#df.head()"
   ]
  },
  {
   "cell_type": "markdown",
   "id": "215cba2a",
   "metadata": {},
   "source": [
    "### the two frames can be combined on a common key \"user_id\""
   ]
  },
  {
   "cell_type": "code",
   "execution_count": 6,
   "id": "af427638",
   "metadata": {},
   "outputs": [],
   "source": [
    "# checking user_id datatype in both frames\n",
    "#df_inst[\"user_id\"].dtype"
   ]
  },
  {
   "cell_type": "code",
   "execution_count": 7,
   "id": "18edc706",
   "metadata": {},
   "outputs": [],
   "source": [
    "#df[\"user_id\"].dtype"
   ]
  },
  {
   "cell_type": "markdown",
   "id": "750de1e1",
   "metadata": {},
   "source": [
    "#### both have the same datatype, we can proceed to merging."
   ]
  },
  {
   "cell_type": "code",
   "execution_count": 8,
   "id": "ac092dc4",
   "metadata": {},
   "outputs": [],
   "source": [
    "#df_inst[\"_merge\"].value_counts()"
   ]
  },
  {
   "cell_type": "code",
   "execution_count": 9,
   "id": "07a37cf5",
   "metadata": {},
   "outputs": [],
   "source": [
    "# dropping the variable\n",
    "df_inst.drop(columns=[\"_merge\"],inplace=True)"
   ]
  },
  {
   "cell_type": "code",
   "execution_count": 10,
   "id": "7458eef4",
   "metadata": {},
   "outputs": [],
   "source": [
    "#df_inst.head()"
   ]
  },
  {
   "cell_type": "markdown",
   "id": "65469464",
   "metadata": {},
   "source": [
    "## Tried merging the frames got memory error. Going to save the frames and start a new notebook with column dropped in df_inst"
   ]
  },
  {
   "cell_type": "code",
   "execution_count": 11,
   "id": "3b808b89",
   "metadata": {},
   "outputs": [],
   "source": [
    "#df.to_pickle(os.path.join(path1,\"customer_cleaned.pkl\"))"
   ]
  },
  {
   "cell_type": "code",
   "execution_count": 12,
   "id": "8e64fa77",
   "metadata": {},
   "outputs": [],
   "source": [
    "df_inst.to_pickle(os.path.join(path1, \"instacart_merge_dropped.pkl\"))"
   ]
  },
  {
   "cell_type": "code",
   "execution_count": null,
   "id": "47ea16c0",
   "metadata": {},
   "outputs": [],
   "source": []
  }
 ],
 "metadata": {
  "kernelspec": {
   "display_name": "Python 3 (ipykernel)",
   "language": "python",
   "name": "python3"
  },
  "language_info": {
   "codemirror_mode": {
    "name": "ipython",
    "version": 3
   },
   "file_extension": ".py",
   "mimetype": "text/x-python",
   "name": "python",
   "nbconvert_exporter": "python",
   "pygments_lexer": "ipython3",
   "version": "3.11.5"
  }
 },
 "nbformat": 4,
 "nbformat_minor": 5
}
