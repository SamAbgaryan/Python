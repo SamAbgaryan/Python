{
 "cells": [
  {
   "cell_type": "markdown",
   "id": "4ee0f2d3",
   "metadata": {},
   "source": [
    "# Importing Libraries"
   ]
  },
  {
   "cell_type": "code",
   "execution_count": 2,
   "id": "2e491844",
   "metadata": {},
   "outputs": [],
   "source": [
    "# importing libraries\n",
    "import pandas as pd\n",
    "import numpy as np\n",
    "import os"
   ]
  },
  {
   "cell_type": "markdown",
   "id": "91389ed7",
   "metadata": {},
   "source": [
    "Data Types"
   ]
  },
  {
   "cell_type": "code",
   "execution_count": 3,
   "id": "620413de",
   "metadata": {},
   "outputs": [
    {
     "data": {
      "text/plain": [
       "100"
      ]
     },
     "execution_count": 3,
     "metadata": {},
     "output_type": "execute_result"
    }
   ],
   "source": [
    "x=40\n",
    "x+60"
   ]
  },
  {
   "cell_type": "code",
   "execution_count": 4,
   "id": "a3e63c84",
   "metadata": {},
   "outputs": [
    {
     "data": {
      "text/plain": [
       "100"
      ]
     },
     "execution_count": 4,
     "metadata": {},
     "output_type": "execute_result"
    }
   ],
   "source": [
    "x=40\n",
    "y=60\n",
    "x+y"
   ]
  },
  {
   "cell_type": "code",
   "execution_count": 5,
   "id": "fd587dc1",
   "metadata": {},
   "outputs": [
    {
     "data": {
      "text/plain": [
       "100"
      ]
     },
     "execution_count": 5,
     "metadata": {},
     "output_type": "execute_result"
    }
   ],
   "source": [
    "150-50"
   ]
  },
  {
   "cell_type": "code",
   "execution_count": 6,
   "id": "d4f4fc70",
   "metadata": {},
   "outputs": [
    {
     "data": {
      "text/plain": [
       "2.12312101910828"
      ]
     },
     "execution_count": 6,
     "metadata": {},
     "output_type": "execute_result"
    }
   ],
   "source": [
    "x=3.14\n",
    "y=6.6666\n",
    "y/x"
   ]
  },
  {
   "cell_type": "code",
   "execution_count": 7,
   "id": "b051468d",
   "metadata": {},
   "outputs": [
    {
     "data": {
      "text/plain": [
       "'hello'"
      ]
     },
     "execution_count": 7,
     "metadata": {},
     "output_type": "execute_result"
    }
   ],
   "source": [
    "a=\"hel\"\n",
    "b=\"lo\"\n",
    "a+b"
   ]
  },
  {
   "cell_type": "code",
   "execution_count": 10,
   "id": "4c900e2f",
   "metadata": {},
   "outputs": [
    {
     "data": {
      "text/plain": [
       "'I love Python! It makes me a more efficient data analyst!'"
      ]
     },
     "execution_count": 10,
     "metadata": {},
     "output_type": "execute_result"
    }
   ],
   "source": [
    "a=\"I love Python!\"\n",
    "b=\" It makes me a more efficient data analyst!\"\n",
    "a+b"
   ]
  },
  {
   "cell_type": "code",
   "execution_count": 11,
   "id": "4c8edad4",
   "metadata": {},
   "outputs": [
    {
     "data": {
      "text/plain": [
       "'I love Python!I love Python!I love Python!I love Python!I love Python!I love Python!I love Python!I love Python!I love Python!I love Python!I love Python!I love Python!I love Python!I love Python!I love Python!I love Python!I love Python!I love Python!I love Python!I love Python!I love Python!I love Python!I love Python!I love Python!I love Python!I love Python!I love Python!I love Python!I love Python!I love Python!I love Python!I love Python!I love Python!I love Python!I love Python!I love Python!I love Python!I love Python!I love Python!I love Python!I love Python!I love Python!I love Python!I love Python!I love Python!I love Python!I love Python!I love Python!I love Python!I love Python!I love Python!I love Python!I love Python!I love Python!I love Python!I love Python!I love Python!I love Python!I love Python!I love Python!I love Python!I love Python!I love Python!I love Python!I love Python!I love Python!I love Python!I love Python!I love Python!I love Python!I love Python!I love Python!I love Python!I love Python!I love Python!I love Python!I love Python!I love Python!I love Python!I love Python!I love Python!I love Python!I love Python!I love Python!I love Python!I love Python!I love Python!I love Python!I love Python!I love Python!I love Python!I love Python!I love Python!I love Python!I love Python!I love Python!I love Python!I love Python!I love Python!I love Python!'"
      ]
     },
     "execution_count": 11,
     "metadata": {},
     "output_type": "execute_result"
    }
   ],
   "source": [
    "a=\"I love Python!\"\n",
    "a*100"
   ]
  },
  {
   "cell_type": "code",
   "execution_count": null,
   "id": "0aac49d7",
   "metadata": {},
   "outputs": [],
   "source": []
  }
 ],
 "metadata": {
  "kernelspec": {
   "display_name": "Python 3 (ipykernel)",
   "language": "python",
   "name": "python3"
  },
  "language_info": {
   "codemirror_mode": {
    "name": "ipython",
    "version": 3
   },
   "file_extension": ".py",
   "mimetype": "text/x-python",
   "name": "python",
   "nbconvert_exporter": "python",
   "pygments_lexer": "ipython3",
   "version": "3.11.5"
  }
 },
 "nbformat": 4,
 "nbformat_minor": 5
}
